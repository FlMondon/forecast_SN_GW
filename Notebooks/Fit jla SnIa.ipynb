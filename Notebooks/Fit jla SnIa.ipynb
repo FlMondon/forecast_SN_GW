{
 "cells": [
  {
   "cell_type": "markdown",
   "metadata": {},
   "source": [
    "# Import"
   ]
  },
  {
   "cell_type": "code",
<<<<<<< HEAD
   "execution_count": 1,
=======
   "execution_count": 8,
>>>>>>> master
   "metadata": {},
   "outputs": [],
   "source": [
    "import pandas as pd\n",
    "import numpy as np\n",
    "from importlib import reload\n",
    "from astropy.io import fits\n",
    "from forecast_SN_GW import get_hubblefit"
   ]
  },
  {
   "cell_type": "markdown",
   "metadata": {},
   "source": [
    "# Load data"
   ]
  },
  {
   "cell_type": "code",
<<<<<<< HEAD
   "execution_count": 2,
=======
   "execution_count": 9,
   "metadata": {},
   "outputs": [],
   "source": [
    "data_path = '../'"
   ]
  },
  {
   "cell_type": "code",
   "execution_count": 10,
>>>>>>> master
   "metadata": {},
   "outputs": [],
   "source": [
    "d_ps1 = pd.read_csv(data_path+'Data/SN_ps_snls_sdss_hst.csv', sep=' ', index_col='CID')\n",
    "ps1_pd = d_ps1[d_ps1['IDSURVEY'] == 15]\n",
    "\n",
    "d_X = pd.read_csv(data_path+'Data/jla_lcparams.txt', sep=' ', index_col='#name')\n",
    "\n",
    "bias_data = fits.getdata(data_path+'Data/covmat/C_bias.fits')\n",
    "cal_data = fits.getdata(data_path+'Data/covmat/C_cal.fits')\n",
    "dust_data = fits.getdata(data_path+'Data/covmat/C_dust.fits')\n",
    "host_data = fits.getdata(data_path+'Data/covmat/C_host.fits')\n",
    "model_data = fits.getdata(data_path+'Data/covmat/C_model.fits')\n",
    "nonia_data = fits.getdata(data_path+'Data/covmat/C_nonia.fits')\n",
    "pecvel_data = fits.getdata(data_path+'Data/covmat/C_pecvel.fits')\n",
    "stat_data = fits.getdata(data_path+'Data/covmat/C_stat.fits')\n",
    "covX = bias_data + cal_data + dust_data + host_data + model_data + nonia_data + pecvel_data + stat_data"
   ]
  },
  {
   "cell_type": "markdown",
   "metadata": {},
   "source": [
    "# Reproduce JLA results"
   ]
  },
  {
   "cell_type": "markdown",
   "metadata": {},
   "source": [
    "## Build data array for JLA fit"
   ]
  },
  {
   "cell_type": "code",
<<<<<<< HEAD
   "execution_count": 3,
=======
   "execution_count": 11,
>>>>>>> master
   "metadata": {},
   "outputs": [],
   "source": [
    "mass = np.zeros_like(d_X['3rdvar'].values)\n",
    "for i, m in enumerate(d_X['3rdvar'].values):\n",
    "    if m > 10:\n",
    "        mass[i] = -1.\n",
    "X = np.array([d_X['mb'].values, d_X['x1'].values, d_X['color'].values, mass])\n",
    "\n",
    "d_sigma = pd.read_csv(data_path+'Data/covmat/sigma_mu.txt', sep=' ')\n",
    "S = np.array([d_sigma['#sigma_coh'].values, d_sigma['#sigma_lens'].values,\n",
    "              d_sigma['#z'].values])\n",
    "S = S.T"
   ]
  },
  {
   "cell_type": "markdown",
   "metadata": {},
   "source": [
    "## JLA fit"
   ]
  },
  {
   "cell_type": "code",
   "execution_count": 12,
   "metadata": {},
   "outputs": [],
   "source": [
    "g = get_hubblefit(X.T, covX, d_X['zcmb'].values, d_X['zcmb'].values, S[:, 0], S[:, 1])"
   ]
  },
  {
   "cell_type": "code",
   "execution_count": 13,
   "metadata": {},
   "outputs": [
    {
     "ename": "RuntimeError",
     "evalue": "Cannot understand keyword Pedantic. May be a typo?\nThe parameters are ['Mb', 'alpha1', 'alpha2', 'alpha3', 'omgM']",
     "output_type": "error",
     "traceback": [
      "\u001b[0;31m---------------------------------------------------------------------------\u001b[0m",
      "\u001b[0;31mRuntimeError\u001b[0m                              Traceback (most recent call last)",
      "\u001b[0;32m<ipython-input-5-f6b84578b545>\u001b[0m in \u001b[0;36m<module>\u001b[0;34m\u001b[0m\n\u001b[0;32m----> 1\u001b[0;31m \u001b[0mg\u001b[0m\u001b[0;34m.\u001b[0m\u001b[0mfit\u001b[0m\u001b[0;34m(\u001b[0m\u001b[0;34m)\u001b[0m\u001b[0;34m\u001b[0m\u001b[0;34m\u001b[0m\u001b[0m\n\u001b[0m",
      "\u001b[0;32m~/Documents/Thèse/Missions/2019-08-18-Euclid/Cours/forecast_SN_GW/forecast_SN_GW/Hubble_fit.py\u001b[0m in \u001b[0;36mfit\u001b[0;34m(self, **kwargs)\u001b[0m\n\u001b[1;32m    200\u001b[0m         \u001b[0mself\u001b[0m\u001b[0;34m.\u001b[0m\u001b[0msetup_guesses\u001b[0m\u001b[0;34m(\u001b[0m\u001b[0;34m**\u001b[0m\u001b[0mkwargs\u001b[0m\u001b[0;34m)\u001b[0m\u001b[0;34m\u001b[0m\u001b[0;34m\u001b[0m\u001b[0m\n\u001b[1;32m    201\u001b[0m \u001b[0;34m\u001b[0m\u001b[0m\n\u001b[0;32m--> 202\u001b[0;31m         \u001b[0mself\u001b[0m\u001b[0;34m.\u001b[0m\u001b[0mfirst_iter\u001b[0m \u001b[0;34m=\u001b[0m \u001b[0mself\u001b[0m\u001b[0;34m.\u001b[0m\u001b[0m_fit_minuit_\u001b[0m\u001b[0;34m(\u001b[0m\u001b[0;34m)\u001b[0m\u001b[0;34m\u001b[0m\u001b[0;34m\u001b[0m\u001b[0m\n\u001b[0m\u001b[1;32m    203\u001b[0m         \u001b[0;31m# - Final steps\u001b[0m\u001b[0;34m\u001b[0m\u001b[0;34m\u001b[0m\u001b[0;34m\u001b[0m\u001b[0m\n\u001b[1;32m    204\u001b[0m         \u001b[0;32mreturn\u001b[0m \u001b[0mself\u001b[0m\u001b[0;34m.\u001b[0m\u001b[0m_fit_readout_\u001b[0m\u001b[0;34m(\u001b[0m\u001b[0;34m)\u001b[0m\u001b[0;34m\u001b[0m\u001b[0;34m\u001b[0m\u001b[0m\n",
      "\u001b[0;32m~/Documents/Thèse/Missions/2019-08-18-Euclid/Cours/forecast_SN_GW/forecast_SN_GW/Hubble_fit.py\u001b[0m in \u001b[0;36m_fit_minuit_\u001b[0;34m(self)\u001b[0m\n\u001b[1;32m    222\u001b[0m         \"\"\"\n\u001b[1;32m    223\u001b[0m         \"\"\"\n\u001b[0;32m--> 224\u001b[0;31m         \u001b[0mself\u001b[0m\u001b[0;34m.\u001b[0m\u001b[0m_setup_minuit_\u001b[0m\u001b[0;34m(\u001b[0m\u001b[0;34m)\u001b[0m\u001b[0;34m\u001b[0m\u001b[0;34m\u001b[0m\u001b[0m\n\u001b[0m\u001b[1;32m    225\u001b[0m         \u001b[0mself\u001b[0m\u001b[0;34m.\u001b[0m\u001b[0m_migrad_output_\u001b[0m \u001b[0;34m=\u001b[0m \u001b[0mself\u001b[0m\u001b[0;34m.\u001b[0m\u001b[0mminuit\u001b[0m\u001b[0;34m.\u001b[0m\u001b[0mmigrad\u001b[0m\u001b[0;34m(\u001b[0m\u001b[0;34m)\u001b[0m\u001b[0;34m\u001b[0m\u001b[0;34m\u001b[0m\u001b[0m\n\u001b[1;32m    226\u001b[0m \u001b[0;34m\u001b[0m\u001b[0m\n",
      "\u001b[0;32m~/Documents/Thèse/Missions/2019-08-18-Euclid/Cours/forecast_SN_GW/forecast_SN_GW/Hubble_fit.py\u001b[0m in \u001b[0;36m_setup_minuit_\u001b[0;34m(self)\u001b[0m\n\u001b[1;32m    217\u001b[0m                                     \u001b[0mPedantic\u001b[0m\u001b[0;34m=\u001b[0m\u001b[0;32mFalse\u001b[0m\u001b[0;34m,\u001b[0m\u001b[0;34m\u001b[0m\u001b[0;34m\u001b[0m\u001b[0m\n\u001b[1;32m    218\u001b[0m                                     \u001b[0mprint_level\u001b[0m\u001b[0;34m=\u001b[0m\u001b[0;36m1\u001b[0m\u001b[0;34m,\u001b[0m\u001b[0;34m\u001b[0m\u001b[0;34m\u001b[0m\u001b[0m\n\u001b[0;32m--> 219\u001b[0;31m                                     **minuit_kwargs)\n\u001b[0m\u001b[1;32m    220\u001b[0m \u001b[0;34m\u001b[0m\u001b[0m\n\u001b[1;32m    221\u001b[0m     \u001b[0;32mdef\u001b[0m \u001b[0m_fit_minuit_\u001b[0m\u001b[0;34m(\u001b[0m\u001b[0mself\u001b[0m\u001b[0;34m)\u001b[0m\u001b[0;34m:\u001b[0m\u001b[0;34m\u001b[0m\u001b[0;34m\u001b[0m\u001b[0m\n",
      "\u001b[0;32miminuit/_libiminuit.pyx\u001b[0m in \u001b[0;36miminuit._libiminuit.Minuit.__init__\u001b[0;34m()\u001b[0m\n",
      "\u001b[0;32miminuit/_libiminuit.pyx\u001b[0m in \u001b[0;36miminuit._libiminuit.check_extra_args\u001b[0;34m()\u001b[0m\n",
      "\u001b[0;31mRuntimeError\u001b[0m: Cannot understand keyword Pedantic. May be a typo?\nThe parameters are ['Mb', 'alpha1', 'alpha2', 'alpha3', 'omgM']"
     ]
<<<<<<< HEAD
    }
   ],
   "source": [
    "g.fit()"
   ]
  },
  {
   "cell_type": "code",
   "execution_count": 19,
   "metadata": {},
   "outputs": [
=======
    },
    {
     "data": {
      "text/html": [
       "<hr>"
      ]
     },
     "metadata": {},
     "output_type": "display_data"
    },
    {
     "data": {
      "text/html": [
       "\n",
       "        <table>\n",
       "            <tr>\n",
       "                <td title=\"Minimum value of function\">FCN = 682.891153089</td>\n",
       "                <td title=\"Total number of call to FCN so far\">TOTAL NCALL = 159</td>\n",
       "                <td title=\"Number of call in last migrad\">NCALLS = 159</td>\n",
       "            </tr>\n",
       "            <tr>\n",
       "                <td title=\"Estimated distance to minimum\">EDM = 1.82717284962e-05</td>\n",
       "                <td title=\"Maximum EDM definition of convergence\">GOAL EDM = 1e-05</td>\n",
       "                <td title=\"Error def. Amount of increase in FCN to be defined as 1 standard deviation\">\n",
       "                UP = 1.0</td>\n",
       "            </tr>\n",
       "        </table>\n",
       "        \n",
       "        <table>\n",
       "            <tr>\n",
       "                <td align=\"center\" title=\"Validity of the migrad call\">Valid</td>\n",
       "                <td align=\"center\" title=\"Validity of parameters\">Valid Param</td>\n",
       "                <td align=\"center\" title=\"Is Covariance matrix accurate?\">Accurate Covar</td>\n",
       "                <td align=\"center\" title=\"Positive definiteness of covariance matrix\">PosDef</td>\n",
       "                <td align=\"center\" title=\"Was covariance matrix made posdef by adding diagonal element\">Made PosDef</td>\n",
       "            </tr>\n",
       "            <tr>\n",
       "                <td align=\"center\" style=\"background-color:#92CCA6\">True</td>\n",
       "                <td align=\"center\" style=\"background-color:#92CCA6\">True</td>\n",
       "                <td align=\"center\" style=\"background-color:#92CCA6\">True</td>\n",
       "                <td align=\"center\" style=\"background-color:#92CCA6\">True</td>\n",
       "                <td align=\"center\" style=\"background-color:#92CCA6\">False</td>\n",
       "            </tr>\n",
       "            <tr>\n",
       "                <td align=\"center\" title=\"Was last hesse call fail?\">Hesse Fail</td>\n",
       "                <td align=\"center\" title=\"Validity of covariance\">HasCov</td>\n",
       "                <td align=\"center\" title=\"Is EDM above goal EDM?\">Above EDM</td>\n",
       "                <td align=\"center\"></td>\n",
       "                <td align=\"center\" title=\"Did last migrad call reach max call limit?\">Reach calllim</td>\n",
       "            </tr>\n",
       "            <tr>\n",
       "                <td align=\"center\" style=\"background-color:#92CCA6\">False</td>\n",
       "                <td align=\"center\" style=\"background-color:#92CCA6\">True</td>\n",
       "                <td align=\"center\" style=\"background-color:#92CCA6\">False</td>\n",
       "                <td align=\"center\"></td>\n",
       "                <td align=\"center\" style=\"background-color:#92CCA6\">False</td>\n",
       "            </tr>\n",
       "        </table>\n",
       "        "
      ]
     },
     "metadata": {},
     "output_type": "display_data"
    },
    {
     "data": {
      "text/html": [
       "\n",
       "        <table>\n",
       "            <tr>\n",
       "                <td><a href=\"#\" onclick=\"$('#biGdeBgdPz').toggle()\">+</a></td>\n",
       "                <td title=\"Variable name\">Name</td>\n",
       "                <td title=\"Value of parameter\">Value</td>\n",
       "                <td title=\"Parabolic error\">Parab Error</td>\n",
       "                <td title=\"Minos lower error\">Minos Error-</td>\n",
       "                <td title=\"Minos upper error\">Minos Error+</td>\n",
       "                <td title=\"Lower limit of the parameter\">Limit-</td>\n",
       "                <td title=\"Upper limit of the parameter\">Limit+</td>\n",
       "                <td title=\"Is the parameter fixed in the fit\">FIXED</td>\n",
       "            </tr>\n",
       "        \n",
       "            <tr>\n",
       "                <td>1</td>\n",
       "                <td>Mb</td>\n",
       "                <td>-19.0485</td>\n",
       "                <td>0.0231703</td>\n",
       "                <td>0</td>\n",
       "                <td>0</td>\n",
       "                <td></td>\n",
       "                <td></td>\n",
       "                <td></td>\n",
       "            </tr>\n",
       "            \n",
       "            <tr>\n",
       "                <td>2</td>\n",
       "                <td>alpha1</td>\n",
       "                <td>0.141227</td>\n",
       "                <td>0.00659009</td>\n",
       "                <td>0</td>\n",
       "                <td>0</td>\n",
       "                <td></td>\n",
       "                <td></td>\n",
       "                <td></td>\n",
       "            </tr>\n",
       "            \n",
       "            <tr>\n",
       "                <td>3</td>\n",
       "                <td>alpha2</td>\n",
       "                <td>-3.10154</td>\n",
       "                <td>0.080728</td>\n",
       "                <td>0</td>\n",
       "                <td>0</td>\n",
       "                <td></td>\n",
       "                <td></td>\n",
       "                <td></td>\n",
       "            </tr>\n",
       "            \n",
       "            <tr>\n",
       "                <td>4</td>\n",
       "                <td>alpha3</td>\n",
       "                <td>-0.0699574</td>\n",
       "                <td>0.0231108</td>\n",
       "                <td>0</td>\n",
       "                <td>0</td>\n",
       "                <td></td>\n",
       "                <td></td>\n",
       "                <td></td>\n",
       "            </tr>\n",
       "            \n",
       "            <tr>\n",
       "                <td>5</td>\n",
       "                <td>omgM</td>\n",
       "                <td>0.295371</td>\n",
       "                <td>0.0339336</td>\n",
       "                <td>0</td>\n",
       "                <td>0</td>\n",
       "                <td></td>\n",
       "                <td></td>\n",
       "                <td></td>\n",
       "            </tr>\n",
       "            \n",
       "            </table>\n",
       "        \n",
       "            <pre id=\"biGdeBgdPz\" style=\"display:none;\">\n",
       "            <textarea rows=\"16\" cols=\"50\" onclick=\"this.select()\" readonly>\\begin{tabular}{|c|r|r|r|r|r|r|r|c|}\n",
       "\\hline\n",
       " & Name & Value & Para Error & Error+ & Error- & Limit+ & Limit- & FIXED\\\\\n",
       "\\hline\n",
       "1 & Mb & -1.905e+01 & 2.317e-02 &  &  &  &  & \\\\\n",
       "\\hline\n",
       "2 & alpha1 & 1.412e-01 & 6.590e-03 &  &  &  &  & \\\\\n",
       "\\hline\n",
       "3 & alpha2 & -3.102e+00 & 8.073e-02 &  &  &  &  & \\\\\n",
       "\\hline\n",
       "4 & alpha3 & -6.996e-02 & 2.311e-02 &  &  &  &  & \\\\\n",
       "\\hline\n",
       "5 & omgM & 2.954e-01 & 3.393e-02 &  &  &  &  & \\\\\n",
       "\\hline\n",
       "\\end{tabular}</textarea>\n",
       "            </pre>\n",
       "            "
      ]
     },
     "metadata": {},
     "output_type": "display_data"
    },
>>>>>>> master
    {
     "data": {
      "text/plain": [
       "<ValueView of Minuit at 558dbd2ab328>\n",
       "  Mb: -19.048500801549057\n",
       "  alpha1: 0.1412273345463002\n",
       "  alpha2: -3.101541148875581\n",
       "  alpha3: -0.06995742381361028\n",
       "  omgM: 0.295371105743009"
      ]
     },
     "execution_count": 19,
     "metadata": {},
     "output_type": "execute_result"
    }
   ],
   "source": [
    "g.minuit.values"
   ]
  },
  {
   "cell_type": "code",
   "execution_count": 20,
   "metadata": {},
   "outputs": [
    {
     "data": {
      "text/plain": [
       "<ErrorView of Minuit at 558dbd2ab328>\n",
       "  Mb: 0.023170305107844093\n",
       "  alpha1: 0.006590085152848236\n",
       "  alpha2: 0.08072799314194437\n",
       "  alpha3: 0.023110783961262468\n",
       "  omgM: 0.03393357277465823"
      ]
     },
<<<<<<< HEAD
     "execution_count": 20,
=======
     "execution_count": 13,
>>>>>>> master
     "metadata": {},
     "output_type": "execute_result"
    }
   ],
   "source": [
    "g.minuit.errors"
   ]
  },
  {
   "cell_type": "markdown",
   "metadata": {},
   "source": [
    "# Fit with linear correction in redshift "
   ]
  },
  {
   "cell_type": "markdown",
   "metadata": {},
   "source": [
    "## Build data array "
   ]
  },
  {
   "cell_type": "code",
<<<<<<< HEAD
   "execution_count": 7,
=======
   "execution_count": 14,
>>>>>>> master
   "metadata": {},
   "outputs": [],
   "source": [
    "X = np.array([d_X['mb'].values, d_X['x1'].values, d_X['color'].values, d_X['zcmb'].values])\n",
    "\n",
    "d_sigma = pd.read_csv(data_path+'Data/covmat/sigma_mu.txt', sep=' ')\n",
    "S = np.array([d_sigma['#sigma_coh'].values, d_sigma['#sigma_lens'].values,\n",
    "              d_sigma['#z'].values])\n",
    "S = S.T"
   ]
  },
  {
   "cell_type": "markdown",
   "metadata": {},
   "source": [
    "## Fit "
   ]
  },
  {
   "cell_type": "code",
<<<<<<< HEAD
   "execution_count": 8,
=======
   "execution_count": 15,
>>>>>>> master
   "metadata": {},
   "outputs": [
    {
     "name": "stderr",
     "output_type": "stream",
     "text": [
      "/home/nora/Documents/Thèse/Missions/2019-08-18-Euclid/Cours/forecast_SN_GW/forecast_SN_GW/Hubble_fit.py:214: InitialParamWarning: Parameter Mb is floating but does not have initial step size. Assume 1.\n",
      "  self.minuit = minuit.Minuit(self._minuit_chi2_, **minuit_kwargs)\n",
      "/home/nora/Documents/Thèse/Missions/2019-08-18-Euclid/Cours/forecast_SN_GW/forecast_SN_GW/Hubble_fit.py:214: InitialParamWarning: Parameter alpha1 is floating but does not have initial step size. Assume 1.\n",
      "  self.minuit = minuit.Minuit(self._minuit_chi2_, **minuit_kwargs)\n",
      "/home/nora/Documents/Thèse/Missions/2019-08-18-Euclid/Cours/forecast_SN_GW/forecast_SN_GW/Hubble_fit.py:214: InitialParamWarning: Parameter alpha2 is floating but does not have initial step size. Assume 1.\n",
      "  self.minuit = minuit.Minuit(self._minuit_chi2_, **minuit_kwargs)\n",
      "/home/nora/Documents/Thèse/Missions/2019-08-18-Euclid/Cours/forecast_SN_GW/forecast_SN_GW/Hubble_fit.py:214: InitialParamWarning: Parameter alpha3 is floating but does not have initial step size. Assume 1.\n",
      "  self.minuit = minuit.Minuit(self._minuit_chi2_, **minuit_kwargs)\n",
      "/home/nora/Documents/Thèse/Missions/2019-08-18-Euclid/Cours/forecast_SN_GW/forecast_SN_GW/Hubble_fit.py:214: InitialParamWarning: Parameter omgM is floating but does not have initial step size. Assume 1.\n",
      "  self.minuit = minuit.Minuit(self._minuit_chi2_, **minuit_kwargs)\n",
      "/home/nora/Documents/Thèse/Missions/2019-08-18-Euclid/Cours/forecast_SN_GW/forecast_SN_GW/Hubble_fit.py:214: InitialParamWarning: errordef is not given. Default to 1.\n",
      "  self.minuit = minuit.Minuit(self._minuit_chi2_, **minuit_kwargs)\n"
     ]
    },
    {
     "data": {
<<<<<<< HEAD
=======
      "text/html": [
       "<hr>"
      ]
     },
     "metadata": {},
     "output_type": "display_data"
    },
    {
     "data": {
      "text/html": [
       "\n",
       "        <table>\n",
       "            <tr>\n",
       "                <td title=\"Minimum value of function\">FCN = 691.236130433</td>\n",
       "                <td title=\"Total number of call to FCN so far\">TOTAL NCALL = 204</td>\n",
       "                <td title=\"Number of call in last migrad\">NCALLS = 204</td>\n",
       "            </tr>\n",
       "            <tr>\n",
       "                <td title=\"Estimated distance to minimum\">EDM = 5.18119666697e-05</td>\n",
       "                <td title=\"Maximum EDM definition of convergence\">GOAL EDM = 1e-05</td>\n",
       "                <td title=\"Error def. Amount of increase in FCN to be defined as 1 standard deviation\">\n",
       "                UP = 1.0</td>\n",
       "            </tr>\n",
       "        </table>\n",
       "        \n",
       "        <table>\n",
       "            <tr>\n",
       "                <td align=\"center\" title=\"Validity of the migrad call\">Valid</td>\n",
       "                <td align=\"center\" title=\"Validity of parameters\">Valid Param</td>\n",
       "                <td align=\"center\" title=\"Is Covariance matrix accurate?\">Accurate Covar</td>\n",
       "                <td align=\"center\" title=\"Positive definiteness of covariance matrix\">PosDef</td>\n",
       "                <td align=\"center\" title=\"Was covariance matrix made posdef by adding diagonal element\">Made PosDef</td>\n",
       "            </tr>\n",
       "            <tr>\n",
       "                <td align=\"center\" style=\"background-color:#92CCA6\">True</td>\n",
       "                <td align=\"center\" style=\"background-color:#92CCA6\">True</td>\n",
       "                <td align=\"center\" style=\"background-color:#92CCA6\">True</td>\n",
       "                <td align=\"center\" style=\"background-color:#92CCA6\">True</td>\n",
       "                <td align=\"center\" style=\"background-color:#92CCA6\">False</td>\n",
       "            </tr>\n",
       "            <tr>\n",
       "                <td align=\"center\" title=\"Was last hesse call fail?\">Hesse Fail</td>\n",
       "                <td align=\"center\" title=\"Validity of covariance\">HasCov</td>\n",
       "                <td align=\"center\" title=\"Is EDM above goal EDM?\">Above EDM</td>\n",
       "                <td align=\"center\"></td>\n",
       "                <td align=\"center\" title=\"Did last migrad call reach max call limit?\">Reach calllim</td>\n",
       "            </tr>\n",
       "            <tr>\n",
       "                <td align=\"center\" style=\"background-color:#92CCA6\">False</td>\n",
       "                <td align=\"center\" style=\"background-color:#92CCA6\">True</td>\n",
       "                <td align=\"center\" style=\"background-color:#92CCA6\">False</td>\n",
       "                <td align=\"center\"></td>\n",
       "                <td align=\"center\" style=\"background-color:#92CCA6\">False</td>\n",
       "            </tr>\n",
       "        </table>\n",
       "        "
      ]
     },
     "metadata": {},
     "output_type": "display_data"
    },
    {
     "data": {
      "text/html": [
       "\n",
       "        <table>\n",
       "            <tr>\n",
       "                <td><a href=\"#\" onclick=\"$('#AnqLnLgZbK').toggle()\">+</a></td>\n",
       "                <td title=\"Variable name\">Name</td>\n",
       "                <td title=\"Value of parameter\">Value</td>\n",
       "                <td title=\"Parabolic error\">Parab Error</td>\n",
       "                <td title=\"Minos lower error\">Minos Error-</td>\n",
       "                <td title=\"Minos upper error\">Minos Error+</td>\n",
       "                <td title=\"Lower limit of the parameter\">Limit-</td>\n",
       "                <td title=\"Upper limit of the parameter\">Limit+</td>\n",
       "                <td title=\"Is the parameter fixed in the fit\">FIXED</td>\n",
       "            </tr>\n",
       "        \n",
       "            <tr>\n",
       "                <td>1</td>\n",
       "                <td>Mb</td>\n",
       "                <td>-19.0682</td>\n",
       "                <td>0.023213</td>\n",
       "                <td>0</td>\n",
       "                <td>0</td>\n",
       "                <td></td>\n",
       "                <td></td>\n",
       "                <td></td>\n",
       "            </tr>\n",
       "            \n",
       "            <tr>\n",
       "                <td>2</td>\n",
       "                <td>alpha1</td>\n",
       "                <td>0.136253</td>\n",
       "                <td>0.00637933</td>\n",
       "                <td>0</td>\n",
       "                <td>0</td>\n",
       "                <td></td>\n",
       "                <td></td>\n",
       "                <td></td>\n",
       "            </tr>\n",
       "            \n",
       "            <tr>\n",
       "                <td>3</td>\n",
       "                <td>alpha2</td>\n",
       "                <td>-3.10188</td>\n",
       "                <td>0.0806027</td>\n",
       "                <td>0</td>\n",
       "                <td>0</td>\n",
       "                <td></td>\n",
       "                <td></td>\n",
       "                <td></td>\n",
       "            </tr>\n",
       "            \n",
       "            <tr>\n",
       "                <td>4</td>\n",
       "                <td>alpha3</td>\n",
       "                <td>-0.222551</td>\n",
       "                <td>0.193861</td>\n",
       "                <td>0</td>\n",
       "                <td>0</td>\n",
       "                <td></td>\n",
       "                <td></td>\n",
       "                <td></td>\n",
       "            </tr>\n",
       "            \n",
       "            <tr>\n",
       "                <td>5</td>\n",
       "                <td>omgM</td>\n",
       "                <td>0.469795</td>\n",
       "                <td>0.17517</td>\n",
       "                <td>0</td>\n",
       "                <td>0</td>\n",
       "                <td></td>\n",
       "                <td></td>\n",
       "                <td></td>\n",
       "            </tr>\n",
       "            \n",
       "            </table>\n",
       "        \n",
       "            <pre id=\"AnqLnLgZbK\" style=\"display:none;\">\n",
       "            <textarea rows=\"16\" cols=\"50\" onclick=\"this.select()\" readonly>\\begin{tabular}{|c|r|r|r|r|r|r|r|c|}\n",
       "\\hline\n",
       " & Name & Value & Para Error & Error+ & Error- & Limit+ & Limit- & FIXED\\\\\n",
       "\\hline\n",
       "1 & Mb & -1.907e+01 & 2.321e-02 &  &  &  &  & \\\\\n",
       "\\hline\n",
       "2 & alpha1 & 1.363e-01 & 6.379e-03 &  &  &  &  & \\\\\n",
       "\\hline\n",
       "3 & alpha2 & -3.102e+00 & 8.060e-02 &  &  &  &  & \\\\\n",
       "\\hline\n",
       "4 & alpha3 & -2.226e-01 & 1.939e-01 &  &  &  &  & \\\\\n",
       "\\hline\n",
       "5 & omgM & 4.698e-01 & 1.752e-01 &  &  &  &  & \\\\\n",
       "\\hline\n",
       "\\end{tabular}</textarea>\n",
       "            </pre>\n",
       "            "
      ]
     },
     "metadata": {},
     "output_type": "display_data"
    },
    {
     "data": {
      "text/html": [
       "<hr>"
      ]
     },
     "metadata": {},
     "output_type": "display_data"
    },
    {
     "data": {
>>>>>>> master
      "text/plain": [
       "(0.15357536939936012, 0.0050001990226806676)"
      ]
     },
<<<<<<< HEAD
     "execution_count": 8,
=======
     "execution_count": 15,
>>>>>>> master
     "metadata": {},
     "output_type": "execute_result"
    }
   ],
   "source": [
    "g = get_hubblefit(X.T, covX, d_X['zcmb'].values, d_X['zcmb'].values, S[:, 0], S[:, 1])\n",
    "g.fit()"
   ]
  }
 ],
 "metadata": {
  "kernelspec": {
   "display_name": "Python 3",
   "language": "python",
   "name": "python3"
  },
  "language_info": {
   "codemirror_mode": {
    "name": "ipython",
    "version": 3
   },
   "file_extension": ".py",
   "mimetype": "text/x-python",
   "name": "python",
   "nbconvert_exporter": "python",
   "pygments_lexer": "ipython3",
   "version": "3.7.3"
  }
 },
 "nbformat": 4,
 "nbformat_minor": 4
}
