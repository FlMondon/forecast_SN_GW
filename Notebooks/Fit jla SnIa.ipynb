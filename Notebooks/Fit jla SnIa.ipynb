{
 "cells": [
  {
   "cell_type": "markdown",
   "metadata": {},
   "source": [
    "# Import"
   ]
  },
  {
   "cell_type": "code",
   "execution_count": 1,
   "metadata": {},
   "outputs": [],
   "source": [
    "import pandas as pd\n",
    "import numpy as np\n",
    "\n",
    "from astropy.io import fits\n",
    "from forecast_SN_GW import get_hubblefit"
   ]
  },
  {
   "cell_type": "markdown",
   "metadata": {},
   "source": [
    "# Load data"
   ]
  },
  {
   "cell_type": "code",
   "execution_count": 2,
   "metadata": {},
   "outputs": [],
   "source": [
    "data_path = '../'"
   ]
  },
  {
   "cell_type": "code",
   "execution_count": 3,
   "metadata": {},
   "outputs": [],
   "source": [
    "d_ps1 = pd.read_csv(data_path+'Data/SN_ps_snls_sdss_hst.csv', sep=' ', index_col='CID')\n",
    "ps1_pd = d_ps1[d_ps1['IDSURVEY'] == 15]\n",
    "\n",
    "d_X = pd.read_csv(data_path+'Data/jla_lcparams.txt', sep=' ', index_col='#name')\n",
    "\n",
    "bias_data = fits.getdata(data_path+'Data/covmat/C_bias.fits')\n",
    "cal_data = fits.getdata(data_path+'Data/covmat/C_cal.fits')\n",
    "dust_data = fits.getdata(data_path+'Data/covmat/C_dust.fits')\n",
    "host_data = fits.getdata(data_path+'Data/covmat/C_host.fits')\n",
    "model_data = fits.getdata(data_path+'Data/covmat/C_model.fits')\n",
    "nonia_data = fits.getdata(data_path+'Data/covmat/C_nonia.fits')\n",
    "pecvel_data = fits.getdata(data_path+'Data/covmat/C_pecvel.fits')\n",
    "stat_data = fits.getdata(data_path+'Data/covmat/C_stat.fits')\n",
    "covX = bias_data + cal_data + dust_data + host_data + model_data + nonia_data + pecvel_data + stat_data"
   ]
  },
  {
   "cell_type": "markdown",
   "metadata": {},
   "source": [
    "# Reproduce JLA results"
   ]
  },
  {
   "cell_type": "markdown",
   "metadata": {},
   "source": [
    "## Build data array for JLA fit"
   ]
  },
  {
   "cell_type": "code",
   "execution_count": 4,
   "metadata": {},
   "outputs": [],
   "source": [
    "mass = np.zeros_like(d_X['3rdvar'].values)\n",
    "for i, m in enumerate(d_X['3rdvar'].values):\n",
    "    if m > 10:\n",
    "        mass[i] = -1.\n",
    "X = np.array([d_X['mb'].values, d_X['x1'].values, d_X['color'].values, mass])\n",
    "\n",
    "d_sigma = pd.read_csv(data_path+'Data/covmat/sigma_mu.txt', sep=' ')\n",
    "S = np.array([d_sigma['#sigma_coh'].values, d_sigma['#sigma_lens'].values,\n",
    "              d_sigma['#z'].values])\n",
    "S = S.T"
   ]
  },
  {
   "cell_type": "markdown",
   "metadata": {},
   "source": [
    "## JLA fit"
   ]
  },
  {
   "cell_type": "code",
   "execution_count": 5,
   "metadata": {},
   "outputs": [],
   "source": [
    "g = get_hubblefit(X.T, covX, d_X['zcmb'].values, d_X['zcmb'].values, S[:, 0], S[:, 1])"
   ]
  },
  {
   "cell_type": "code",
   "execution_count": 6,
   "metadata": {},
   "outputs": [
    {
     "data": {
      "text/html": [
       "<hr>"
      ]
     },
     "metadata": {},
     "output_type": "display_data"
    },
    {
     "data": {
      "text/html": [
       "\n",
       "        <table>\n",
       "            <tr>\n",
       "                <td title=\"Minimum value of function\">FCN = 682.891139136</td>\n",
       "                <td title=\"Total number of call to FCN so far\">TOTAL NCALL = 160</td>\n",
       "                <td title=\"Number of call in last migrad\">NCALLS = 160</td>\n",
       "            </tr>\n",
       "            <tr>\n",
       "                <td title=\"Estimated distance to minimum\">EDM = 4.31626452499e-06</td>\n",
       "                <td title=\"Maximum EDM definition of convergence\">GOAL EDM = 1e-05</td>\n",
       "                <td title=\"Error def. Amount of increase in FCN to be defined as 1 standard deviation\">\n",
       "                UP = 1.0</td>\n",
       "            </tr>\n",
       "        </table>\n",
       "        \n",
       "        <table>\n",
       "            <tr>\n",
       "                <td align=\"center\" title=\"Validity of the migrad call\">Valid</td>\n",
       "                <td align=\"center\" title=\"Validity of parameters\">Valid Param</td>\n",
       "                <td align=\"center\" title=\"Is Covariance matrix accurate?\">Accurate Covar</td>\n",
       "                <td align=\"center\" title=\"Positive definiteness of covariance matrix\">PosDef</td>\n",
       "                <td align=\"center\" title=\"Was covariance matrix made posdef by adding diagonal element\">Made PosDef</td>\n",
       "            </tr>\n",
       "            <tr>\n",
       "                <td align=\"center\" style=\"background-color:#92CCA6\">True</td>\n",
       "                <td align=\"center\" style=\"background-color:#92CCA6\">True</td>\n",
       "                <td align=\"center\" style=\"background-color:#92CCA6\">True</td>\n",
       "                <td align=\"center\" style=\"background-color:#92CCA6\">True</td>\n",
       "                <td align=\"center\" style=\"background-color:#92CCA6\">False</td>\n",
       "            </tr>\n",
       "            <tr>\n",
       "                <td align=\"center\" title=\"Was last hesse call fail?\">Hesse Fail</td>\n",
       "                <td align=\"center\" title=\"Validity of covariance\">HasCov</td>\n",
       "                <td align=\"center\" title=\"Is EDM above goal EDM?\">Above EDM</td>\n",
       "                <td align=\"center\"></td>\n",
       "                <td align=\"center\" title=\"Did last migrad call reach max call limit?\">Reach calllim</td>\n",
       "            </tr>\n",
       "            <tr>\n",
       "                <td align=\"center\" style=\"background-color:#92CCA6\">False</td>\n",
       "                <td align=\"center\" style=\"background-color:#92CCA6\">True</td>\n",
       "                <td align=\"center\" style=\"background-color:#92CCA6\">False</td>\n",
       "                <td align=\"center\"></td>\n",
       "                <td align=\"center\" style=\"background-color:#92CCA6\">False</td>\n",
       "            </tr>\n",
       "        </table>\n",
       "        "
      ]
     },
     "metadata": {},
     "output_type": "display_data"
    },
    {
     "data": {
      "text/html": [
       "\n",
       "        <table>\n",
       "            <tr>\n",
       "                <td><a href=\"#\" onclick=\"$('#IcYCGCqBTF').toggle()\">+</a></td>\n",
       "                <td title=\"Variable name\">Name</td>\n",
       "                <td title=\"Value of parameter\">Value</td>\n",
       "                <td title=\"Parabolic error\">Parab Error</td>\n",
       "                <td title=\"Minos lower error\">Minos Error-</td>\n",
       "                <td title=\"Minos upper error\">Minos Error+</td>\n",
       "                <td title=\"Lower limit of the parameter\">Limit-</td>\n",
       "                <td title=\"Upper limit of the parameter\">Limit+</td>\n",
       "                <td title=\"Is the parameter fixed in the fit\">FIXED</td>\n",
       "            </tr>\n",
       "        \n",
       "            <tr>\n",
       "                <td>1</td>\n",
       "                <td>Mb</td>\n",
       "                <td>-19.0485</td>\n",
       "                <td>0.0231721</td>\n",
       "                <td>0</td>\n",
       "                <td>0</td>\n",
       "                <td></td>\n",
       "                <td></td>\n",
       "                <td></td>\n",
       "            </tr>\n",
       "            \n",
       "            <tr>\n",
       "                <td>2</td>\n",
       "                <td>alpha1</td>\n",
       "                <td>0.141227</td>\n",
       "                <td>0.00658992</td>\n",
       "                <td>0</td>\n",
       "                <td>0</td>\n",
       "                <td></td>\n",
       "                <td></td>\n",
       "                <td></td>\n",
       "            </tr>\n",
       "            \n",
       "            <tr>\n",
       "                <td>3</td>\n",
       "                <td>alpha2</td>\n",
       "                <td>-3.1013</td>\n",
       "                <td>0.0807218</td>\n",
       "                <td>0</td>\n",
       "                <td>0</td>\n",
       "                <td></td>\n",
       "                <td></td>\n",
       "                <td></td>\n",
       "            </tr>\n",
       "            \n",
       "            <tr>\n",
       "                <td>4</td>\n",
       "                <td>alpha3</td>\n",
       "                <td>-0.069987</td>\n",
       "                <td>0.0231102</td>\n",
       "                <td>0</td>\n",
       "                <td>0</td>\n",
       "                <td></td>\n",
       "                <td></td>\n",
       "                <td></td>\n",
       "            </tr>\n",
       "            \n",
       "            <tr>\n",
       "                <td>5</td>\n",
       "                <td>omgM</td>\n",
       "                <td>0.295323</td>\n",
       "                <td>0.0339014</td>\n",
       "                <td>0</td>\n",
       "                <td>0</td>\n",
       "                <td>0.0</td>\n",
       "                <td>1.0</td>\n",
       "                <td></td>\n",
       "            </tr>\n",
       "            \n",
       "            </table>\n",
       "        \n",
       "            <pre id=\"IcYCGCqBTF\" style=\"display:none;\">\n",
       "            <textarea rows=\"16\" cols=\"50\" onclick=\"this.select()\" readonly>\\begin{tabular}{|c|r|r|r|r|r|r|r|c|}\n",
       "\\hline\n",
       " & Name & Value & Para Error & Error+ & Error- & Limit+ & Limit- & FIXED\\\\\n",
       "\\hline\n",
       "1 & Mb & -1.905e+01 & 2.317e-02 &  &  &  &  & \\\\\n",
       "\\hline\n",
       "2 & alpha1 & 1.412e-01 & 6.590e-03 &  &  &  &  & \\\\\n",
       "\\hline\n",
       "3 & alpha2 & -3.101e+00 & 8.072e-02 &  &  &  &  & \\\\\n",
       "\\hline\n",
       "4 & alpha3 & -6.999e-02 & 2.311e-02 &  &  &  &  & \\\\\n",
       "\\hline\n",
       "5 & omgM & 2.953e-01 & 3.390e-02 &  &  & 0.000e+00 & 1.000e+00 & \\\\\n",
       "\\hline\n",
       "\\end{tabular}</textarea>\n",
       "            </pre>\n",
       "            "
      ]
     },
     "metadata": {},
     "output_type": "display_data"
    },
    {
     "data": {
      "text/html": [
       "<hr>"
      ]
     },
     "metadata": {},
     "output_type": "display_data"
    },
    {
     "data": {
      "text/plain": [
       "{'Mb': -19.04845558418629,\n",
       " 'alpha1': 0.14122692809980045,\n",
       " 'alpha2': -3.101297018846571,\n",
       " 'alpha3': -0.06998699746790762,\n",
       " 'omgM': 0.2953229798598163}"
      ]
     },
     "execution_count": 6,
     "metadata": {},
     "output_type": "execute_result"
    }
   ],
   "source": [
    "g.fit()\n",
    "g.minuit.values"
   ]
  },
  {
   "cell_type": "code",
   "execution_count": 7,
   "metadata": {},
   "outputs": [
    {
     "data": {
      "text/plain": [
       "{'Mb': 0.02317210816121692,\n",
       " 'alpha1': 0.006589922760960733,\n",
       " 'alpha2': 0.08072184422519378,\n",
       " 'alpha3': 0.023110224151747582,\n",
       " 'omgM': 0.0339013771581024}"
      ]
     },
     "execution_count": 7,
     "metadata": {},
     "output_type": "execute_result"
    }
   ],
   "source": [
    "g.minuit.errors"
   ]
  },
  {
   "cell_type": "markdown",
   "metadata": {},
   "source": [
    "# Fit with linear correction in redshift "
   ]
  },
  {
   "cell_type": "markdown",
   "metadata": {},
   "source": [
    "## Build data array "
   ]
  },
  {
   "cell_type": "code",
   "execution_count": 8,
   "metadata": {},
   "outputs": [],
   "source": [
    "X = np.array([d_X['mb'].values, d_X['x1'].values, d_X['color'].values, d_X['zcmb'].values])\n",
    "\n",
    "d_sigma = pd.read_csv(data_path+'Data/covmat/sigma_mu.txt', sep=' ')\n",
    "S = np.array([d_sigma['#sigma_coh'].values, d_sigma['#sigma_lens'].values,\n",
    "              d_sigma['#z'].values])\n",
    "S = S.T"
   ]
  },
  {
   "cell_type": "markdown",
   "metadata": {},
   "source": [
    "## Fit "
   ]
  },
  {
   "cell_type": "code",
   "execution_count": 9,
   "metadata": {},
   "outputs": [
    {
     "data": {
      "text/html": [
       "<hr>"
      ]
     },
     "metadata": {},
     "output_type": "display_data"
    },
    {
     "data": {
      "text/html": [
       "\n",
       "        <table>\n",
       "            <tr>\n",
       "                <td title=\"Minimum value of function\">FCN = 691.236079145</td>\n",
       "                <td title=\"Total number of call to FCN so far\">TOTAL NCALL = 203</td>\n",
       "                <td title=\"Number of call in last migrad\">NCALLS = 203</td>\n",
       "            </tr>\n",
       "            <tr>\n",
       "                <td title=\"Estimated distance to minimum\">EDM = 7.35165110526e-07</td>\n",
       "                <td title=\"Maximum EDM definition of convergence\">GOAL EDM = 1e-05</td>\n",
       "                <td title=\"Error def. Amount of increase in FCN to be defined as 1 standard deviation\">\n",
       "                UP = 1.0</td>\n",
       "            </tr>\n",
       "        </table>\n",
       "        \n",
       "        <table>\n",
       "            <tr>\n",
       "                <td align=\"center\" title=\"Validity of the migrad call\">Valid</td>\n",
       "                <td align=\"center\" title=\"Validity of parameters\">Valid Param</td>\n",
       "                <td align=\"center\" title=\"Is Covariance matrix accurate?\">Accurate Covar</td>\n",
       "                <td align=\"center\" title=\"Positive definiteness of covariance matrix\">PosDef</td>\n",
       "                <td align=\"center\" title=\"Was covariance matrix made posdef by adding diagonal element\">Made PosDef</td>\n",
       "            </tr>\n",
       "            <tr>\n",
       "                <td align=\"center\" style=\"background-color:#92CCA6\">True</td>\n",
       "                <td align=\"center\" style=\"background-color:#92CCA6\">True</td>\n",
       "                <td align=\"center\" style=\"background-color:#92CCA6\">True</td>\n",
       "                <td align=\"center\" style=\"background-color:#92CCA6\">True</td>\n",
       "                <td align=\"center\" style=\"background-color:#92CCA6\">False</td>\n",
       "            </tr>\n",
       "            <tr>\n",
       "                <td align=\"center\" title=\"Was last hesse call fail?\">Hesse Fail</td>\n",
       "                <td align=\"center\" title=\"Validity of covariance\">HasCov</td>\n",
       "                <td align=\"center\" title=\"Is EDM above goal EDM?\">Above EDM</td>\n",
       "                <td align=\"center\"></td>\n",
       "                <td align=\"center\" title=\"Did last migrad call reach max call limit?\">Reach calllim</td>\n",
       "            </tr>\n",
       "            <tr>\n",
       "                <td align=\"center\" style=\"background-color:#92CCA6\">False</td>\n",
       "                <td align=\"center\" style=\"background-color:#92CCA6\">True</td>\n",
       "                <td align=\"center\" style=\"background-color:#92CCA6\">False</td>\n",
       "                <td align=\"center\"></td>\n",
       "                <td align=\"center\" style=\"background-color:#92CCA6\">False</td>\n",
       "            </tr>\n",
       "        </table>\n",
       "        "
      ]
     },
     "metadata": {},
     "output_type": "display_data"
    },
    {
     "data": {
      "text/html": [
       "\n",
       "        <table>\n",
       "            <tr>\n",
       "                <td><a href=\"#\" onclick=\"$('#puUgOrpCpa').toggle()\">+</a></td>\n",
       "                <td title=\"Variable name\">Name</td>\n",
       "                <td title=\"Value of parameter\">Value</td>\n",
       "                <td title=\"Parabolic error\">Parab Error</td>\n",
       "                <td title=\"Minos lower error\">Minos Error-</td>\n",
       "                <td title=\"Minos upper error\">Minos Error+</td>\n",
       "                <td title=\"Lower limit of the parameter\">Limit-</td>\n",
       "                <td title=\"Upper limit of the parameter\">Limit+</td>\n",
       "                <td title=\"Is the parameter fixed in the fit\">FIXED</td>\n",
       "            </tr>\n",
       "        \n",
       "            <tr>\n",
       "                <td>1</td>\n",
       "                <td>Mb</td>\n",
       "                <td>-19.0682</td>\n",
       "                <td>0.0232206</td>\n",
       "                <td>0</td>\n",
       "                <td>0</td>\n",
       "                <td></td>\n",
       "                <td></td>\n",
       "                <td></td>\n",
       "            </tr>\n",
       "            \n",
       "            <tr>\n",
       "                <td>2</td>\n",
       "                <td>alpha1</td>\n",
       "                <td>0.136241</td>\n",
       "                <td>0.00637906</td>\n",
       "                <td>0</td>\n",
       "                <td>0</td>\n",
       "                <td></td>\n",
       "                <td></td>\n",
       "                <td></td>\n",
       "            </tr>\n",
       "            \n",
       "            <tr>\n",
       "                <td>3</td>\n",
       "                <td>alpha2</td>\n",
       "                <td>-3.10156</td>\n",
       "                <td>0.080593</td>\n",
       "                <td>0</td>\n",
       "                <td>0</td>\n",
       "                <td></td>\n",
       "                <td></td>\n",
       "                <td></td>\n",
       "            </tr>\n",
       "            \n",
       "            <tr>\n",
       "                <td>4</td>\n",
       "                <td>alpha3</td>\n",
       "                <td>-0.223353</td>\n",
       "                <td>0.193771</td>\n",
       "                <td>0</td>\n",
       "                <td>0</td>\n",
       "                <td></td>\n",
       "                <td></td>\n",
       "                <td></td>\n",
       "            </tr>\n",
       "            \n",
       "            <tr>\n",
       "                <td>5</td>\n",
       "                <td>omgM</td>\n",
       "                <td>0.470514</td>\n",
       "                <td>0.171655</td>\n",
       "                <td>0</td>\n",
       "                <td>0</td>\n",
       "                <td>0.0</td>\n",
       "                <td>1.0</td>\n",
       "                <td></td>\n",
       "            </tr>\n",
       "            \n",
       "            </table>\n",
       "        \n",
       "            <pre id=\"puUgOrpCpa\" style=\"display:none;\">\n",
       "            <textarea rows=\"16\" cols=\"50\" onclick=\"this.select()\" readonly>\\begin{tabular}{|c|r|r|r|r|r|r|r|c|}\n",
       "\\hline\n",
       " & Name & Value & Para Error & Error+ & Error- & Limit+ & Limit- & FIXED\\\\\n",
       "\\hline\n",
       "1 & Mb & -1.907e+01 & 2.322e-02 &  &  &  &  & \\\\\n",
       "\\hline\n",
       "2 & alpha1 & 1.362e-01 & 6.379e-03 &  &  &  &  & \\\\\n",
       "\\hline\n",
       "3 & alpha2 & -3.102e+00 & 8.059e-02 &  &  &  &  & \\\\\n",
       "\\hline\n",
       "4 & alpha3 & -2.234e-01 & 1.938e-01 &  &  &  &  & \\\\\n",
       "\\hline\n",
       "5 & omgM & 4.705e-01 & 1.717e-01 &  &  & 0.000e+00 & 1.000e+00 & \\\\\n",
       "\\hline\n",
       "\\end{tabular}</textarea>\n",
       "            </pre>\n",
       "            "
      ]
     },
     "metadata": {},
     "output_type": "display_data"
    },
    {
     "data": {
      "text/html": [
       "<hr>"
      ]
     },
     "metadata": {},
     "output_type": "display_data"
    },
    {
     "data": {
      "text/plain": [
       "(0.15356858018842226, 0.005000062920239221)"
      ]
     },
     "execution_count": 9,
     "metadata": {},
     "output_type": "execute_result"
    }
   ],
   "source": [
    "g = get_hubblefit(X.T, covX, d_X['zcmb'].values, d_X['zcmb'].values, S[:, 0], S[:, 1])\n",
    "g.fit()"
   ]
  },
  {
   "cell_type": "code",
   "execution_count": 10,
   "metadata": {},
   "outputs": [
    {
     "data": {
      "text/plain": [
       "{'Mb': -19.06819050370749,\n",
       " 'alpha1': 0.13624144563029492,\n",
       " 'alpha2': -3.1015613996575304,\n",
       " 'alpha3': -0.22335319735181183,\n",
       " 'omgM': 0.4705137354352047}"
      ]
     },
     "execution_count": 10,
     "metadata": {},
     "output_type": "execute_result"
    }
   ],
   "source": [
    "g.minuit.values"
   ]
  },
  {
   "cell_type": "code",
   "execution_count": 11,
   "metadata": {},
   "outputs": [
    {
     "data": {
      "text/plain": [
       "{'Mb': 0.02322060016959228,\n",
       " 'alpha1': 0.006379063409005724,\n",
       " 'alpha2': 0.08059299566015492,\n",
       " 'alpha3': 0.1937706827490381,\n",
       " 'omgM': 0.17165514492437767}"
      ]
     },
     "execution_count": 11,
     "metadata": {},
     "output_type": "execute_result"
    }
   ],
   "source": [
    "g.minuit.errors"
   ]
  },
  {
   "cell_type": "markdown",
   "metadata": {},
   "source": [
    "# Combine with standard sirens"
   ]
  },
  {
   "cell_type": "code",
   "execution_count": 12,
   "metadata": {},
   "outputs": [],
   "source": [
    "mu_sirens = np.genfromtxt('../GWMock/mock_catalogue.txt')\n",
    "X_combined = np.zeros((len(X.T)+len(mu_sirens),len(X.T[0])))"
   ]
  },
  {
   "cell_type": "code",
   "execution_count": 13,
   "metadata": {},
   "outputs": [
    {
     "name": "stdout",
     "output_type": "stream",
     "text": [
      "[[ 4.67820264e+01  0.00000000e+00  0.00000000e+00  0.00000000e+00]\n",
      " [ 4.35708662e+01  0.00000000e+00  0.00000000e+00  0.00000000e+00]\n",
      " [ 4.45082341e+01  0.00000000e+00  0.00000000e+00  0.00000000e+00]\n",
      " ...\n",
      " [ 1.58955010e+01  6.18766000e-01 -5.54110000e-02  2.38100000e-02]\n",
      " [ 1.60682680e+01  7.60605000e-01  5.21860000e-02  2.38670000e-02]\n",
      " [ 1.57185400e+01  4.30639000e-01 -3.83670000e-02  2.20680000e-02]]\n"
     ]
    }
   ],
   "source": [
    "X_combined[:-len(X.T),0] = mu_sirens[:,1]\n",
    "X_combined[len(mu_sirens):,:] = X.T[:,:]\n",
    "print X_combined"
   ]
  },
  {
   "cell_type": "code",
   "execution_count": 14,
   "metadata": {},
   "outputs": [],
   "source": [
    "cov_combined = np.zeros(((len(X.T)+len(mu_sirens))*3, (len(X.T)+len(mu_sirens))*3))"
   ]
  },
  {
   "cell_type": "code",
   "execution_count": 15,
   "metadata": {},
   "outputs": [
    {
     "data": {
      "text/plain": [
       "(2220, 2220)"
      ]
     },
     "execution_count": 15,
     "metadata": {},
     "output_type": "execute_result"
    }
   ],
   "source": [
    "np.shape(covX)"
   ]
  },
  {
   "cell_type": "code",
   "execution_count": 16,
   "metadata": {},
   "outputs": [],
   "source": [
    "for i, err in enumerate(mu_sirens[:,2]):\n",
    "    cov_combined[i*3,i*3] = err**2\n",
    "cov_combined[len(mu_sirens)*3:,len(mu_sirens)*3:] = covX\n",
    "sirens = np.zeros(len(X.T)+len(mu_sirens))\n",
    "sirens[len(mu_sirens):] = sirens[len(mu_sirens):]+1"
   ]
  },
  {
   "cell_type": "code",
   "execution_count": 17,
   "metadata": {},
   "outputs": [],
   "source": [
    "z = np.concatenate((mu_sirens[:,0], d_X['zcmb'].values), axis=None)\n",
    "sig_coh = np.concatenate((np.zeros(len(mu_sirens)), S[:, 0]), axis=None)\n",
    "sig_lens = np.concatenate((np.zeros(len(mu_sirens)), S[:, 1]), axis=None)"
   ]
  },
  {
   "cell_type": "code",
   "execution_count": null,
   "metadata": {},
   "outputs": [],
   "source": [
    "g = get_hubblefit(X_combined, cov_combined, z, z, sig_coh, sig_lens, sirens=sirens)\n",
    "g.fit()\n",
    "g.minuit.values\n",
    "g.minuit.errors"
   ]
  },
  {
   "cell_type": "code",
   "execution_count": null,
   "metadata": {},
   "outputs": [],
   "source": [
    "from matplotlib import pyplot as plt\n",
    "from forecast_SN_GW import distance_modulus_th\n",
    "plt.scatter(d_X['zcmb'].values, X.T[:,0]+19.05, c='r')\n",
    "plt.scatter(mu_sirens[:,0], mu_sirens[:,1], c='b')\n",
    "z = np.linspace(0.,5,100)\n",
    "plt.plot(z, distance_modulus_th(0.3,z,z), c='black')\n",
    "# plt.xlim(-0.0,1)\n",
    "plt.show()"
   ]
  },
  {
   "cell_type": "code",
   "execution_count": null,
   "metadata": {},
   "outputs": [],
   "source": [
    "g.minuit.fval/g."
   ]
  },
  {
   "cell_type": "code",
   "execution_count": null,
   "metadata": {},
   "outputs": [],
   "source": [
    "g.chi2_per_dof"
   ]
  },
  {
   "cell_type": "code",
   "execution_count": null,
   "metadata": {},
   "outputs": [],
   "source": [
    "g.dof"
   ]
  },
  {
   "cell_type": "code",
   "execution_count": null,
   "metadata": {},
   "outputs": [],
   "source": []
  },
  {
   "cell_type": "code",
   "execution_count": null,
   "metadata": {},
   "outputs": [],
   "source": []
  }
 ],
 "metadata": {
  "kernelspec": {
   "display_name": "Python 2",
   "language": "python",
   "name": "python2"
  },
  "language_info": {
   "codemirror_mode": {
    "name": "ipython",
    "version": 2
   },
   "file_extension": ".py",
   "mimetype": "text/x-python",
   "name": "python",
   "nbconvert_exporter": "python",
   "pygments_lexer": "ipython2",
   "version": "2.7.14"
  }
 },
 "nbformat": 4,
 "nbformat_minor": 4
}
