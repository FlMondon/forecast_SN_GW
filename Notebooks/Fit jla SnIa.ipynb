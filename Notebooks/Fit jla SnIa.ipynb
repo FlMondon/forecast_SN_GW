{
 "cells": [
  {
   "cell_type": "markdown",
   "metadata": {},
   "source": [
    "# Import"
   ]
  },
  {
   "cell_type": "code",
   "execution_count": 1,
   "metadata": {},
   "outputs": [],
   "source": [
    "import pandas as pd\n",
    "import numpy as np\n",
    "from importlib import reload\n",
    "from astropy.io import fits\n",
    "from forecast_SN_GW import get_hubblefit"
   ]
  },
  {
   "cell_type": "markdown",
   "metadata": {},
   "source": [
    "# Load data"
   ]
  },
  {
   "cell_type": "code",
   "execution_count": 2,
   "metadata": {},
   "outputs": [],
   "source": [
    "d_ps1 = pd.read_csv('../Data/SN_ps_snls_sdss_hst.csv', sep=' ', index_col='CID')\n",
    "ps1_pd = d_ps1[d_ps1['IDSURVEY'] == 15]\n",
    "\n",
    "d_X = pd.read_csv('../Data/jla_lcparams.txt', sep=' ', index_col='#name')\n",
    "\n",
    "bias_data = fits.getdata('../Data/covmat/C_bias.fits')\n",
    "cal_data = fits.getdata('../Data/covmat/C_cal.fits')\n",
    "dust_data = fits.getdata('../Data/covmat/C_dust.fits')\n",
    "host_data = fits.getdata('../Data/covmat/C_host.fits')\n",
    "model_data = fits.getdata('../Data/covmat/C_model.fits')\n",
    "nonia_data = fits.getdata('../Data/covmat/C_nonia.fits')\n",
    "pecvel_data = fits.getdata('../Data/covmat/C_pecvel.fits')\n",
    "stat_data = fits.getdata('../Data/covmat/C_stat.fits')\n",
    "covX = bias_data + cal_data + dust_data + host_data + model_data + nonia_data + pecvel_data + stat_data"
   ]
  },
  {
   "cell_type": "markdown",
   "metadata": {},
   "source": [
    "# Reproduce JLA results"
   ]
  },
  {
   "cell_type": "markdown",
   "metadata": {},
   "source": [
    "## Build data array for JLA fit"
   ]
  },
  {
   "cell_type": "code",
   "execution_count": 3,
   "metadata": {},
   "outputs": [],
   "source": [
    "mass = np.zeros_like(d_X['3rdvar'].values)\n",
    "for i, m in enumerate(d_X['3rdvar'].values):\n",
    "    if m > 10:\n",
    "        mass[i] = -1.\n",
    "X = np.array([d_X['mb'].values, d_X['x1'].values, d_X['color'].values, mass])\n",
    "\n",
    "d_sigma = pd.read_csv('../Data/covmat/sigma_mu.txt', sep=' ')\n",
    "S = np.array([d_sigma['#sigma_coh'].values, d_sigma['#sigma_lens'].values,\n",
    "              d_sigma['#z'].values])\n",
    "S = S.T"
   ]
  },
  {
   "cell_type": "markdown",
   "metadata": {},
   "source": [
    "## JLA fit"
   ]
  },
  {
   "cell_type": "code",
   "execution_count": 4,
   "metadata": {},
   "outputs": [],
   "source": [
    "g = get_hubblefit(X.T, covX, d_X['zcmb'].values, d_X['zcmb'].values, S[:, 0], S[:, 1])"
   ]
  },
  {
   "cell_type": "code",
   "execution_count": 5,
   "metadata": {},
   "outputs": [
    {
     "ename": "RuntimeError",
     "evalue": "Cannot understand keyword Pedantic. May be a typo?\nThe parameters are ['Mb', 'alpha1', 'alpha2', 'alpha3', 'omgM']",
     "output_type": "error",
     "traceback": [
      "\u001b[0;31m---------------------------------------------------------------------------\u001b[0m",
      "\u001b[0;31mRuntimeError\u001b[0m                              Traceback (most recent call last)",
      "\u001b[0;32m<ipython-input-5-f6b84578b545>\u001b[0m in \u001b[0;36m<module>\u001b[0;34m\u001b[0m\n\u001b[0;32m----> 1\u001b[0;31m \u001b[0mg\u001b[0m\u001b[0;34m.\u001b[0m\u001b[0mfit\u001b[0m\u001b[0;34m(\u001b[0m\u001b[0;34m)\u001b[0m\u001b[0;34m\u001b[0m\u001b[0;34m\u001b[0m\u001b[0m\n\u001b[0m",
      "\u001b[0;32m~/Documents/Thèse/Missions/2019-08-18-Euclid/Cours/forecast_SN_GW/forecast_SN_GW/Hubble_fit.py\u001b[0m in \u001b[0;36mfit\u001b[0;34m(self, **kwargs)\u001b[0m\n\u001b[1;32m    200\u001b[0m         \u001b[0mself\u001b[0m\u001b[0;34m.\u001b[0m\u001b[0msetup_guesses\u001b[0m\u001b[0;34m(\u001b[0m\u001b[0;34m**\u001b[0m\u001b[0mkwargs\u001b[0m\u001b[0;34m)\u001b[0m\u001b[0;34m\u001b[0m\u001b[0;34m\u001b[0m\u001b[0m\n\u001b[1;32m    201\u001b[0m \u001b[0;34m\u001b[0m\u001b[0m\n\u001b[0;32m--> 202\u001b[0;31m         \u001b[0mself\u001b[0m\u001b[0;34m.\u001b[0m\u001b[0mfirst_iter\u001b[0m \u001b[0;34m=\u001b[0m \u001b[0mself\u001b[0m\u001b[0;34m.\u001b[0m\u001b[0m_fit_minuit_\u001b[0m\u001b[0;34m(\u001b[0m\u001b[0;34m)\u001b[0m\u001b[0;34m\u001b[0m\u001b[0;34m\u001b[0m\u001b[0m\n\u001b[0m\u001b[1;32m    203\u001b[0m         \u001b[0;31m# - Final steps\u001b[0m\u001b[0;34m\u001b[0m\u001b[0;34m\u001b[0m\u001b[0;34m\u001b[0m\u001b[0m\n\u001b[1;32m    204\u001b[0m         \u001b[0;32mreturn\u001b[0m \u001b[0mself\u001b[0m\u001b[0;34m.\u001b[0m\u001b[0m_fit_readout_\u001b[0m\u001b[0;34m(\u001b[0m\u001b[0;34m)\u001b[0m\u001b[0;34m\u001b[0m\u001b[0;34m\u001b[0m\u001b[0m\n",
      "\u001b[0;32m~/Documents/Thèse/Missions/2019-08-18-Euclid/Cours/forecast_SN_GW/forecast_SN_GW/Hubble_fit.py\u001b[0m in \u001b[0;36m_fit_minuit_\u001b[0;34m(self)\u001b[0m\n\u001b[1;32m    222\u001b[0m         \"\"\"\n\u001b[1;32m    223\u001b[0m         \"\"\"\n\u001b[0;32m--> 224\u001b[0;31m         \u001b[0mself\u001b[0m\u001b[0;34m.\u001b[0m\u001b[0m_setup_minuit_\u001b[0m\u001b[0;34m(\u001b[0m\u001b[0;34m)\u001b[0m\u001b[0;34m\u001b[0m\u001b[0;34m\u001b[0m\u001b[0m\n\u001b[0m\u001b[1;32m    225\u001b[0m         \u001b[0mself\u001b[0m\u001b[0;34m.\u001b[0m\u001b[0m_migrad_output_\u001b[0m \u001b[0;34m=\u001b[0m \u001b[0mself\u001b[0m\u001b[0;34m.\u001b[0m\u001b[0mminuit\u001b[0m\u001b[0;34m.\u001b[0m\u001b[0mmigrad\u001b[0m\u001b[0;34m(\u001b[0m\u001b[0;34m)\u001b[0m\u001b[0;34m\u001b[0m\u001b[0;34m\u001b[0m\u001b[0m\n\u001b[1;32m    226\u001b[0m \u001b[0;34m\u001b[0m\u001b[0m\n",
      "\u001b[0;32m~/Documents/Thèse/Missions/2019-08-18-Euclid/Cours/forecast_SN_GW/forecast_SN_GW/Hubble_fit.py\u001b[0m in \u001b[0;36m_setup_minuit_\u001b[0;34m(self)\u001b[0m\n\u001b[1;32m    217\u001b[0m                                     \u001b[0mPedantic\u001b[0m\u001b[0;34m=\u001b[0m\u001b[0;32mFalse\u001b[0m\u001b[0;34m,\u001b[0m\u001b[0;34m\u001b[0m\u001b[0;34m\u001b[0m\u001b[0m\n\u001b[1;32m    218\u001b[0m                                     \u001b[0mprint_level\u001b[0m\u001b[0;34m=\u001b[0m\u001b[0;36m1\u001b[0m\u001b[0;34m,\u001b[0m\u001b[0;34m\u001b[0m\u001b[0;34m\u001b[0m\u001b[0m\n\u001b[0;32m--> 219\u001b[0;31m                                     **minuit_kwargs)\n\u001b[0m\u001b[1;32m    220\u001b[0m \u001b[0;34m\u001b[0m\u001b[0m\n\u001b[1;32m    221\u001b[0m     \u001b[0;32mdef\u001b[0m \u001b[0m_fit_minuit_\u001b[0m\u001b[0;34m(\u001b[0m\u001b[0mself\u001b[0m\u001b[0;34m)\u001b[0m\u001b[0;34m:\u001b[0m\u001b[0;34m\u001b[0m\u001b[0;34m\u001b[0m\u001b[0m\n",
      "\u001b[0;32miminuit/_libiminuit.pyx\u001b[0m in \u001b[0;36miminuit._libiminuit.Minuit.__init__\u001b[0;34m()\u001b[0m\n",
      "\u001b[0;32miminuit/_libiminuit.pyx\u001b[0m in \u001b[0;36miminuit._libiminuit.check_extra_args\u001b[0;34m()\u001b[0m\n",
      "\u001b[0;31mRuntimeError\u001b[0m: Cannot understand keyword Pedantic. May be a typo?\nThe parameters are ['Mb', 'alpha1', 'alpha2', 'alpha3', 'omgM']"
     ]
    }
   ],
   "source": [
    "g.fit()"
   ]
  },
  {
   "cell_type": "code",
   "execution_count": 19,
   "metadata": {},
   "outputs": [
    {
     "data": {
      "text/plain": [
       "<ValueView of Minuit at 558dbd2ab328>\n",
       "  Mb: -19.048500801549057\n",
       "  alpha1: 0.1412273345463002\n",
       "  alpha2: -3.101541148875581\n",
       "  alpha3: -0.06995742381361028\n",
       "  omgM: 0.295371105743009"
      ]
     },
     "execution_count": 19,
     "metadata": {},
     "output_type": "execute_result"
    }
   ],
   "source": [
    "g.minuit.values"
   ]
  },
  {
   "cell_type": "code",
   "execution_count": 20,
   "metadata": {},
   "outputs": [
    {
     "data": {
      "text/plain": [
       "<ErrorView of Minuit at 558dbd2ab328>\n",
       "  Mb: 0.023170305107844093\n",
       "  alpha1: 0.006590085152848236\n",
       "  alpha2: 0.08072799314194437\n",
       "  alpha3: 0.023110783961262468\n",
       "  omgM: 0.03393357277465823"
      ]
     },
     "execution_count": 20,
     "metadata": {},
     "output_type": "execute_result"
    }
   ],
   "source": [
    "g.minuit.errors"
   ]
  },
  {
   "cell_type": "markdown",
   "metadata": {},
   "source": [
    "# Fit with linear correction in redshift "
   ]
  },
  {
   "cell_type": "markdown",
   "metadata": {},
   "source": [
    "## Build data array "
   ]
  },
  {
   "cell_type": "code",
   "execution_count": 7,
   "metadata": {},
   "outputs": [],
   "source": [
    "X = np.array([d_X['mb'].values, d_X['x1'].values, d_X['color'].values, d_X['zcmb'].values])\n",
    "\n",
    "d_sigma = pd.read_csv('../Data/covmat/sigma_mu.txt', sep=' ')\n",
    "S = np.array([d_sigma['#sigma_coh'].values, d_sigma['#sigma_lens'].values,\n",
    "              d_sigma['#z'].values])\n",
    "S = S.T"
   ]
  },
  {
   "cell_type": "markdown",
   "metadata": {},
   "source": [
    "## Fit "
   ]
  },
  {
   "cell_type": "code",
   "execution_count": 8,
   "metadata": {},
   "outputs": [
    {
     "name": "stderr",
     "output_type": "stream",
     "text": [
      "/home/nora/Documents/Thèse/Missions/2019-08-18-Euclid/Cours/forecast_SN_GW/forecast_SN_GW/Hubble_fit.py:214: InitialParamWarning: Parameter Mb is floating but does not have initial step size. Assume 1.\n",
      "  self.minuit = minuit.Minuit(self._minuit_chi2_, **minuit_kwargs)\n",
      "/home/nora/Documents/Thèse/Missions/2019-08-18-Euclid/Cours/forecast_SN_GW/forecast_SN_GW/Hubble_fit.py:214: InitialParamWarning: Parameter alpha1 is floating but does not have initial step size. Assume 1.\n",
      "  self.minuit = minuit.Minuit(self._minuit_chi2_, **minuit_kwargs)\n",
      "/home/nora/Documents/Thèse/Missions/2019-08-18-Euclid/Cours/forecast_SN_GW/forecast_SN_GW/Hubble_fit.py:214: InitialParamWarning: Parameter alpha2 is floating but does not have initial step size. Assume 1.\n",
      "  self.minuit = minuit.Minuit(self._minuit_chi2_, **minuit_kwargs)\n",
      "/home/nora/Documents/Thèse/Missions/2019-08-18-Euclid/Cours/forecast_SN_GW/forecast_SN_GW/Hubble_fit.py:214: InitialParamWarning: Parameter alpha3 is floating but does not have initial step size. Assume 1.\n",
      "  self.minuit = minuit.Minuit(self._minuit_chi2_, **minuit_kwargs)\n",
      "/home/nora/Documents/Thèse/Missions/2019-08-18-Euclid/Cours/forecast_SN_GW/forecast_SN_GW/Hubble_fit.py:214: InitialParamWarning: Parameter omgM is floating but does not have initial step size. Assume 1.\n",
      "  self.minuit = minuit.Minuit(self._minuit_chi2_, **minuit_kwargs)\n",
      "/home/nora/Documents/Thèse/Missions/2019-08-18-Euclid/Cours/forecast_SN_GW/forecast_SN_GW/Hubble_fit.py:214: InitialParamWarning: errordef is not given. Default to 1.\n",
      "  self.minuit = minuit.Minuit(self._minuit_chi2_, **minuit_kwargs)\n"
     ]
    },
    {
     "data": {
      "text/plain": [
       "(0.15357536939936012, 0.0050001990226806676)"
      ]
     },
     "execution_count": 8,
     "metadata": {},
     "output_type": "execute_result"
    }
   ],
   "source": [
    "g = get_hubblefit(X.T, covX, d_X['zcmb'].values, d_X['zcmb'].values, S[:, 0], S[:, 1])\n",
    "g.fit()"
   ]
  },
  {
   "cell_type": "code",
   "execution_count": null,
   "metadata": {},
   "outputs": [],
   "source": []
  }
 ],
 "metadata": {
  "kernelspec": {
   "display_name": "Python 3",
   "language": "python",
   "name": "python3"
  },
  "language_info": {
   "codemirror_mode": {
    "name": "ipython",
    "version": 3
   },
   "file_extension": ".py",
   "mimetype": "text/x-python",
   "name": "python",
   "nbconvert_exporter": "python",
   "pygments_lexer": "ipython3",
   "version": "3.7.3"
  }
 },
 "nbformat": 4,
 "nbformat_minor": 4
}
