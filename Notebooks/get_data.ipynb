{
 "cells": [
  {
   "cell_type": "markdown",
   "metadata": {},
   "source": [
    "## Modules à importer"
   ]
  },
  {
   "cell_type": "code",
   "execution_count": 1,
   "metadata": {},
   "outputs": [],
   "source": [
    "import pandas as pd\n",
    "from astropy.io import fits\n",
    "from forecast_SN_GW import get_hubblefit"
   ]
  },
  {
   "cell_type": "markdown",
   "metadata": {},
   "source": [
    "## Définition des pandas"
   ]
  },
  {
   "cell_type": "code",
   "execution_count": 5,
   "metadata": {},
   "outputs": [],
   "source": [
    "d_ps1 = pd.read_csv('../Data/SN_ps_snls_sdss_hst.csv', sep=' ', index_col='CID')\n",
    "ps1_pd = d_ps1[d_ps1['IDSURVEY'] == 15]\n",
    "\n",
    "d_X = pd.read_csv('../Data/jla_lcparams.txt', sep=' ', index_col='#name')\n",
    "X = np.array([d_X['zcmb'].values, d_X['zhel'].values, d_X['mb'].values, d_X['color'].values,\n",
    "             d_X['x1'].values])\n",
    "\n",
    "d_sigma = pd.read_csv('../Data/covmat/sigma_mu.txt', sep=' ')\n",
    "S = np.array([d_sigma['#sigma_coh'].values, d_sigma['#sigma_lens'].values,\n",
    "              d_sigma['#z'].values])\n",
    "\n",
    "bias_data = fits.getdata('../Data/covmat/C_bias.fits')\n",
    "cal_data = fits.getdata('../Data/covmat/C_cal.fits')\n",
    "dust_data = fits.getdata('../Data/covmat/C_dust.fits')\n",
    "host_data = fits.getdata('../Data/covmat/C_host.fits')\n",
    "model_data = fits.getdata('../Data/covmat/C_model.fits')\n",
    "nonia_data = fits.getdata('../Data/covmat/C_nonia.fits')\n",
    "pecvel_data = fits.getdata('../Data/covmat/C_pecvel.fits')\n",
    "stat_data = fits.getdata('../Data/covmat/C_stat.fits')\n",
    "\n",
    "covX = bias_data + cal_data + dust_data + host_data + model_data + nonia_data + pecvel_data + stat_data"
   ]
  },
  {
   "cell_type": "code",
   "execution_count": 11,
   "metadata": {},
   "outputs": [
    {
     "data": {
      "text/plain": [
       "(3, 740)"
      ]
     },
     "execution_count": 11,
     "metadata": {},
     "output_type": "execute_result"
    }
   ],
   "source": [
    "S.shape"
   ]
  },
  {
   "cell_type": "code",
   "execution_count": 12,
   "metadata": {},
   "outputs": [
    {
     "data": {
      "text/plain": [
       "(5, 740)"
      ]
     },
     "execution_count": 12,
     "metadata": {},
     "output_type": "execute_result"
    }
   ],
   "source": [
    "X.shape"
   ]
  },
  {
   "cell_type": "code",
   "execution_count": 16,
   "metadata": {},
   "outputs": [
    {
     "data": {
      "text/plain": [
       "740.0"
      ]
     },
     "execution_count": 16,
     "metadata": {},
     "output_type": "execute_result"
    }
   ],
   "source": [
    "covX.shape[0]/3"
   ]
  },
  {
   "cell_type": "code",
   "execution_count": 7,
   "metadata": {},
   "outputs": [],
   "source": [
    "g = get_hubblefit(X, covX, X[1], X[0], S[-1], S[0], S[1])"
   ]
  },
  {
   "cell_type": "code",
   "execution_count": 9,
   "metadata": {},
   "outputs": [
    {
     "name": "stderr",
     "output_type": "stream",
     "text": [
      "/home/nora/Documents/Thèse/Missions/2019-08-18-Euclid/Cours/forecast_SN_GW/forecast_SN_GW/Hubble_fit.py:214: InitialParamWarning: Parameter Mb is floating but does not have initial step size. Assume 1.\n",
      "  self.minuit = minuit.Minuit(self._minuit_chi2_, **minuit_kwargs)\n",
      "/home/nora/Documents/Thèse/Missions/2019-08-18-Euclid/Cours/forecast_SN_GW/forecast_SN_GW/Hubble_fit.py:214: InitialParamWarning: Parameter alpha1 is floating but does not have initial step size. Assume 1.\n",
      "  self.minuit = minuit.Minuit(self._minuit_chi2_, **minuit_kwargs)\n",
      "/home/nora/Documents/Thèse/Missions/2019-08-18-Euclid/Cours/forecast_SN_GW/forecast_SN_GW/Hubble_fit.py:214: InitialParamWarning: Parameter alpha2 is floating but does not have initial step size. Assume 1.\n",
      "  self.minuit = minuit.Minuit(self._minuit_chi2_, **minuit_kwargs)\n",
      "/home/nora/Documents/Thèse/Missions/2019-08-18-Euclid/Cours/forecast_SN_GW/forecast_SN_GW/Hubble_fit.py:214: InitialParamWarning: Parameter alpha3 is floating but does not have initial step size. Assume 1.\n",
      "  self.minuit = minuit.Minuit(self._minuit_chi2_, **minuit_kwargs)\n",
      "/home/nora/Documents/Thèse/Missions/2019-08-18-Euclid/Cours/forecast_SN_GW/forecast_SN_GW/Hubble_fit.py:214: InitialParamWarning: Parameter beta is floating but does not have initial step size. Assume 1.\n",
      "  self.minuit = minuit.Minuit(self._minuit_chi2_, **minuit_kwargs)\n",
      "/home/nora/Documents/Thèse/Missions/2019-08-18-Euclid/Cours/forecast_SN_GW/forecast_SN_GW/Hubble_fit.py:214: InitialParamWarning: Parameter delta is floating but does not have initial step size. Assume 1.\n",
      "  self.minuit = minuit.Minuit(self._minuit_chi2_, **minuit_kwargs)\n",
      "/home/nora/Documents/Thèse/Missions/2019-08-18-Euclid/Cours/forecast_SN_GW/forecast_SN_GW/Hubble_fit.py:214: InitialParamWarning: Parameter delta2 is floating but does not have initial step size. Assume 1.\n",
      "  self.minuit = minuit.Minuit(self._minuit_chi2_, **minuit_kwargs)\n",
      "/home/nora/Documents/Thèse/Missions/2019-08-18-Euclid/Cours/forecast_SN_GW/forecast_SN_GW/Hubble_fit.py:214: InitialParamWarning: Parameter delta3 is floating but does not have initial step size. Assume 1.\n",
      "  self.minuit = minuit.Minuit(self._minuit_chi2_, **minuit_kwargs)\n",
      "/home/nora/Documents/Thèse/Missions/2019-08-18-Euclid/Cours/forecast_SN_GW/forecast_SN_GW/Hubble_fit.py:214: InitialParamWarning: errordef is not given. Default to 1.\n",
      "  self.minuit = minuit.Minuit(self._minuit_chi2_, **minuit_kwargs)\n"
     ]
    },
    {
     "ename": "RuntimeError",
     "evalue": "exception was raised in user function\nUser function arguments:\n        Mb = +0.000000\n    alpha1 = +0.000000\n    alpha2 = +0.000000\n    alpha3 = +0.000000\n      beta = +0.000000\n     delta = +0.000000\n    delta2 = +0.000000\n    delta3 = +0.000000\nOriginal python exception in user function:\nValueError: operands could not be broadcast together with shapes (278,278) (278,277) (278,278) \n  File \"<string>\", line 4, in _minuit_chi2_\n  File \"/home/nora/Documents/Thèse/Missions/2019-08-18-Euclid/Cours/forecast_SN_GW/forecast_SN_GW/Hubble_fit.py\", line 112, in get_chi2\n    self.Cmu += (coef1 * coef2) * self.cov[i::len(params), j::len(params)]\n",
     "output_type": "error",
     "traceback": [
      "\u001b[0;31m---------------------------------------------------------------------------\u001b[0m",
      "\u001b[0;31mRuntimeError\u001b[0m                              Traceback (most recent call last)",
      "\u001b[0;32m<ipython-input-9-f6b84578b545>\u001b[0m in \u001b[0;36m<module>\u001b[0;34m\u001b[0m\n\u001b[0;32m----> 1\u001b[0;31m \u001b[0mg\u001b[0m\u001b[0;34m.\u001b[0m\u001b[0mfit\u001b[0m\u001b[0;34m(\u001b[0m\u001b[0;34m)\u001b[0m\u001b[0;34m\u001b[0m\u001b[0;34m\u001b[0m\u001b[0m\n\u001b[0m",
      "\u001b[0;32m~/Documents/Thèse/Missions/2019-08-18-Euclid/Cours/forecast_SN_GW/forecast_SN_GW/Hubble_fit.py\u001b[0m in \u001b[0;36mfit\u001b[0;34m(self, **kwargs)\u001b[0m\n\u001b[1;32m    198\u001b[0m         \u001b[0mself\u001b[0m\u001b[0;34m.\u001b[0m\u001b[0msetup_guesses\u001b[0m\u001b[0;34m(\u001b[0m\u001b[0;34m**\u001b[0m\u001b[0mkwargs\u001b[0m\u001b[0;34m)\u001b[0m\u001b[0;34m\u001b[0m\u001b[0;34m\u001b[0m\u001b[0m\n\u001b[1;32m    199\u001b[0m \u001b[0;34m\u001b[0m\u001b[0m\n\u001b[0;32m--> 200\u001b[0;31m         \u001b[0mself\u001b[0m\u001b[0;34m.\u001b[0m\u001b[0mfirst_iter\u001b[0m \u001b[0;34m=\u001b[0m \u001b[0mself\u001b[0m\u001b[0;34m.\u001b[0m\u001b[0m_fit_minuit_\u001b[0m\u001b[0;34m(\u001b[0m\u001b[0;34m)\u001b[0m\u001b[0;34m\u001b[0m\u001b[0;34m\u001b[0m\u001b[0m\n\u001b[0m\u001b[1;32m    201\u001b[0m         \u001b[0;31m# - Final steps\u001b[0m\u001b[0;34m\u001b[0m\u001b[0;34m\u001b[0m\u001b[0;34m\u001b[0m\u001b[0m\n\u001b[1;32m    202\u001b[0m         \u001b[0;32mreturn\u001b[0m \u001b[0mself\u001b[0m\u001b[0;34m.\u001b[0m\u001b[0m_fit_readout_\u001b[0m\u001b[0;34m(\u001b[0m\u001b[0;34m)\u001b[0m\u001b[0;34m\u001b[0m\u001b[0;34m\u001b[0m\u001b[0m\n",
      "\u001b[0;32m~/Documents/Thèse/Missions/2019-08-18-Euclid/Cours/forecast_SN_GW/forecast_SN_GW/Hubble_fit.py\u001b[0m in \u001b[0;36m_fit_minuit_\u001b[0;34m(self)\u001b[0m\n\u001b[1;32m    218\u001b[0m         \"\"\"\n\u001b[1;32m    219\u001b[0m         \u001b[0mself\u001b[0m\u001b[0;34m.\u001b[0m\u001b[0m_setup_minuit_\u001b[0m\u001b[0;34m(\u001b[0m\u001b[0;34m)\u001b[0m\u001b[0;34m\u001b[0m\u001b[0;34m\u001b[0m\u001b[0m\n\u001b[0;32m--> 220\u001b[0;31m         \u001b[0mself\u001b[0m\u001b[0;34m.\u001b[0m\u001b[0m_migrad_output_\u001b[0m \u001b[0;34m=\u001b[0m \u001b[0mself\u001b[0m\u001b[0;34m.\u001b[0m\u001b[0mminuit\u001b[0m\u001b[0;34m.\u001b[0m\u001b[0mmigrad\u001b[0m\u001b[0;34m(\u001b[0m\u001b[0;34m)\u001b[0m\u001b[0;34m\u001b[0m\u001b[0;34m\u001b[0m\u001b[0m\n\u001b[0m\u001b[1;32m    221\u001b[0m \u001b[0;34m\u001b[0m\u001b[0m\n\u001b[1;32m    222\u001b[0m         \u001b[0;32mif\u001b[0m \u001b[0mself\u001b[0m\u001b[0;34m.\u001b[0m\u001b[0m_migrad_output_\u001b[0m\u001b[0;34m[\u001b[0m\u001b[0;36m0\u001b[0m\u001b[0;34m]\u001b[0m\u001b[0;34m[\u001b[0m\u001b[0;34m\"is_valid\"\u001b[0m\u001b[0;34m]\u001b[0m \u001b[0;32mis\u001b[0m \u001b[0;32mFalse\u001b[0m\u001b[0;34m:\u001b[0m\u001b[0;34m\u001b[0m\u001b[0;34m\u001b[0m\u001b[0m\n",
      "\u001b[0;32miminuit/_libiminuit.pyx\u001b[0m in \u001b[0;36miminuit._libiminuit.Minuit.migrad\u001b[0;34m()\u001b[0m\n",
      "\u001b[0;31mRuntimeError\u001b[0m: exception was raised in user function\nUser function arguments:\n        Mb = +0.000000\n    alpha1 = +0.000000\n    alpha2 = +0.000000\n    alpha3 = +0.000000\n      beta = +0.000000\n     delta = +0.000000\n    delta2 = +0.000000\n    delta3 = +0.000000\nOriginal python exception in user function:\nValueError: operands could not be broadcast together with shapes (278,278) (278,277) (278,278) \n  File \"<string>\", line 4, in _minuit_chi2_\n  File \"/home/nora/Documents/Thèse/Missions/2019-08-18-Euclid/Cours/forecast_SN_GW/forecast_SN_GW/Hubble_fit.py\", line 112, in get_chi2\n    self.Cmu += (coef1 * coef2) * self.cov[i::len(params), j::len(params)]\n"
     ]
    }
   ],
   "source": [
    "g.fit()"
   ]
  },
  {
   "cell_type": "code",
   "execution_count": null,
   "metadata": {},
   "outputs": [],
   "source": []
  }
 ],
 "metadata": {
  "kernelspec": {
   "display_name": "Python 3",
   "language": "python",
   "name": "python3"
  },
  "language_info": {
   "codemirror_mode": {
    "name": "ipython",
    "version": 3
   },
   "file_extension": ".py",
   "mimetype": "text/x-python",
   "name": "python",
   "nbconvert_exporter": "python",
   "pygments_lexer": "ipython3",
   "version": "3.7.3"
  }
 },
 "nbformat": 4,
 "nbformat_minor": 2
}
