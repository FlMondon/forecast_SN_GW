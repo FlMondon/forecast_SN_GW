{
 "cells": [
  {
   "cell_type": "markdown",
   "metadata": {},
   "source": [
    "## Modules à importer"
   ]
  },
  {
   "cell_type": "code",
   "execution_count": 28,
   "metadata": {},
   "outputs": [],
   "source": [
    "import pandas as pd\n",
    "from astropy.io import fits"
   ]
  },
  {
   "cell_type": "markdown",
   "metadata": {},
   "source": [
    "## Définition des pandas"
   ]
  },
  {
   "cell_type": "code",
   "execution_count": 42,
   "metadata": {},
   "outputs": [],
   "source": [
    "d_ps1 = pd.read_csv('Data/SN_ps_snls_sdss_hst.csv', sep=' ', index_col = 'CID')\n",
    "ps1_pd = d_ps1[d_ps1['IDSURVEY'] == 15]\n",
    "\n",
    "d_X = pd.read_csv('Data/jla_lcparams.txt', sep=' ', index_col='#name')\n",
    "X = np.array([d_X['zcmb'].values, d_X['mb'].values, d_X['color'].values, d_X['x1'].values])\n",
    "\n",
    "d_sigma = pd.read_csv('Data/covmat/sigma_mu.txt', sep=' ')\n",
    "S = np.array([d_sigma['#sigma_coh'].values, d_sigma['#sigma_lens'].values, d_sigma['#z'].values])\n",
    "\n",
    "bias_data = fits.getdata('Data/covmat/C_bias.fits')\n",
    "hdul = fits.open('Data/covmat/C_cal.fits')\n",
    "cal_data = hdul[0].data\n",
    "hdul = fits.open('Data/covmat/C_dust.fits')\n",
    "dust_data = hdul[0].data\n",
    "hdul = fits.open('Data/covmat/C_host.fits')\n",
    "host_data = hdul[0].data\n",
    "hdul = fits.open('Data/covmat/C_model.fits')\n",
    "model_data = hdul[0].data\n",
    "hdul = fits.open('Data/covmat/C_nonia.fits')\n",
    "nonia_data = hdul[0].data\n",
    "hdul = fits.open('Data/covmat/C_pecvel.fits')\n",
    "pecvel_data = hdul[0].data\n",
    "hdul = fits.open('Data/covmat/C_stat.fits')\n",
    "stat_data = hdul[0].data\n",
    "\n",
    "covX = bias_data + cal_data + dust_data + host_data + model_data + nonia_data + pecvel_data + stat_data"
   ]
  },
  {
   "cell_type": "code",
   "execution_count": 43,
   "metadata": {},
   "outputs": [
    {
     "data": {
      "text/plain": [
       "array([[ 7.28218469e-03,  6.72695173e-04,  5.14094555e-04, ...,\n",
       "         4.27398149e-04,  5.00218077e-05,  8.66843608e-05],\n",
       "       [ 6.72695173e-04,  2.46432744e-02, -2.28621308e-04, ...,\n",
       "         4.83953116e-05, -5.44792171e-04,  4.00801878e-05],\n",
       "       [ 5.14094555e-04, -2.28621308e-04,  9.56416279e-04, ...,\n",
       "         9.31867639e-05,  5.11319678e-05,  1.57851063e-05],\n",
       "       ...,\n",
       "       [ 4.27398149e-04,  4.83953116e-05,  9.31867639e-05, ...,\n",
       "         5.47960237e-03,  1.41830870e-04,  6.24273015e-04],\n",
       "       [ 5.00218077e-05, -5.44792171e-04,  5.11319678e-05, ...,\n",
       "         1.41830870e-04,  5.19758441e-03, -1.35597116e-04],\n",
       "       [ 8.66843608e-05,  4.00801878e-05,  1.57851063e-05, ...,\n",
       "         6.24273015e-04, -1.35597116e-04,  5.82219252e-04]])"
      ]
     },
     "execution_count": 43,
     "metadata": {},
     "output_type": "execute_result"
    }
   ],
   "source": [
    "covX"
   ]
  },
  {
   "cell_type": "code",
   "execution_count": null,
   "metadata": {},
   "outputs": [],
   "source": []
  }
 ],
 "metadata": {
  "kernelspec": {
   "display_name": "Python 3",
   "language": "python",
   "name": "python3"
  },
  "language_info": {
   "codemirror_mode": {
    "name": "ipython",
    "version": 3
   },
   "file_extension": ".py",
   "mimetype": "text/x-python",
   "name": "python",
   "nbconvert_exporter": "python",
   "pygments_lexer": "ipython3",
   "version": "3.7.3"
  }
 },
 "nbformat": 4,
 "nbformat_minor": 2
}
