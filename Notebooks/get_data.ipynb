{
 "cells": [
  {
   "cell_type": "markdown",
   "metadata": {},
   "source": [
    "## Modules à importer"
   ]
  },
  {
   "cell_type": "code",
   "execution_count": 1,
   "metadata": {},
   "outputs": [],
   "source": [
    "import pandas as pd\n",
    "import numpy as np\n",
    "from astropy.io import fits\n",
    "from forecast_SN_GW import get_hubblefit"
   ]
  },
  {
   "cell_type": "markdown",
   "metadata": {},
   "source": [
    "## Définition des pandas"
   ]
  },
  {
   "cell_type": "code",
   "execution_count": 2,
   "metadata": {},
   "outputs": [],
   "source": [
    "d_ps1 = pd.read_csv('../Data/SN_ps_snls_sdss_hst.csv', sep=' ', index_col='CID')\n",
    "ps1_pd = d_ps1[d_ps1['IDSURVEY'] == 15]\n",
    "\n",
    "d_X = pd.read_csv('../Data/jla_lcparams.txt', sep=' ', index_col='#name')\n",
    "\n",
    "mass = np.zeros_like(d_X['3rdvar'].values)\n",
    "for i, m in enumerate(d_X['3rdvar'].values):\n",
    "    if m > 10:\n",
    "        mass[i] = -1.\n",
    "X = np.array([d_X['mb'].values, d_X['x1'].values, d_X['color'].values, mass])\n",
    "\n",
    "d_sigma = pd.read_csv('../Data/covmat/sigma_mu.txt', sep=' ')\n",
    "S = np.array([d_sigma['#sigma_coh'].values, d_sigma['#sigma_lens'].values,\n",
    "              d_sigma['#z'].values])\n",
    "S = S.T\n",
    "bias_data = fits.getdata('../Data/covmat/C_bias.fits')\n",
    "cal_data = fits.getdata('../Data/covmat/C_cal.fits')\n",
    "dust_data = fits.getdata('../Data/covmat/C_dust.fits')\n",
    "host_data = fits.getdata('../Data/covmat/C_host.fits')\n",
    "model_data = fits.getdata('../Data/covmat/C_model.fits')\n",
    "nonia_data = fits.getdata('../Data/covmat/C_nonia.fits')\n",
    "pecvel_data = fits.getdata('../Data/covmat/C_pecvel.fits')\n",
    "stat_data = fits.getdata('../Data/covmat/C_stat.fits')\n",
    "\n",
    "covX = bias_data + cal_data + dust_data + host_data + model_data + nonia_data + pecvel_data + stat_data"
   ]
  },
  {
   "cell_type": "code",
   "execution_count": null,
   "metadata": {},
   "outputs": [],
   "source": []
  },
  {
   "cell_type": "code",
   "execution_count": 3,
   "metadata": {},
   "outputs": [
    {
     "data": {
      "text/plain": [
       "740"
      ]
     },
     "execution_count": 3,
     "metadata": {},
     "output_type": "execute_result"
    }
   ],
   "source": [
    "covX.shape[0]/3"
   ]
  },
  {
   "cell_type": "code",
   "execution_count": 4,
   "metadata": {},
   "outputs": [],
   "source": [
    "g = get_hubblefit(X.T, covX, d_X['zcmb'].values, d_X['zcmb'].values, S[:, 0], S[:, 1])"
   ]
  },
  {
   "cell_type": "code",
   "execution_count": 5,
   "metadata": {},
   "outputs": [
    {
     "name": "stderr",
     "output_type": "stream",
     "text": [
      "/home/florian/forecast_SN_GW/forecast_SN_GW/Hubble_fit.py:214: InitialParamWarning: errordef is not given. Default to 1.\n",
      "  self.minuit = minuit.Minuit(self._minuit_chi2_, **minuit_kwargs)\n",
      "/home/florian/forecast_SN_GW/forecast_SN_GW/Hubble_fit.py:214: InitialParamWarning: Parameter Mb is floating but does not have initial step size. Assume 1.\n",
      "  self.minuit = minuit.Minuit(self._minuit_chi2_, **minuit_kwargs)\n",
      "/home/florian/forecast_SN_GW/forecast_SN_GW/Hubble_fit.py:214: InitialParamWarning: Parameter alpha1 is floating but does not have initial step size. Assume 1.\n",
      "  self.minuit = minuit.Minuit(self._minuit_chi2_, **minuit_kwargs)\n",
      "/home/florian/forecast_SN_GW/forecast_SN_GW/Hubble_fit.py:214: InitialParamWarning: Parameter alpha2 is floating but does not have initial step size. Assume 1.\n",
      "  self.minuit = minuit.Minuit(self._minuit_chi2_, **minuit_kwargs)\n",
      "/home/florian/forecast_SN_GW/forecast_SN_GW/Hubble_fit.py:214: InitialParamWarning: Parameter alpha3 is floating but does not have initial step size. Assume 1.\n",
      "  self.minuit = minuit.Minuit(self._minuit_chi2_, **minuit_kwargs)\n",
      "/home/florian/forecast_SN_GW/forecast_SN_GW/Hubble_fit.py:214: InitialParamWarning: Parameter omgM is floating but does not have initial step size. Assume 1.\n",
      "  self.minuit = minuit.Minuit(self._minuit_chi2_, **minuit_kwargs)\n"
     ]
    },
    {
     "data": {
      "text/html": [
       "<hr>"
      ]
     },
     "metadata": {},
     "output_type": "display_data"
    },
    {
     "data": {
      "text/html": [
       "\n",
       "        <table>\n",
       "            <tr>\n",
       "                <td title=\"Minimum value of function\">FCN = 682.891153089</td>\n",
       "                <td title=\"Total number of call to FCN so far\">TOTAL NCALL = 159</td>\n",
       "                <td title=\"Number of call in last migrad\">NCALLS = 159</td>\n",
       "            </tr>\n",
       "            <tr>\n",
       "                <td title=\"Estimated distance to minimum\">EDM = 1.82717284962e-05</td>\n",
       "                <td title=\"Maximum EDM definition of convergence\">GOAL EDM = 1e-05</td>\n",
       "                <td title=\"Error def. Amount of increase in FCN to be defined as 1 standard deviation\">\n",
       "                UP = 1.0</td>\n",
       "            </tr>\n",
       "        </table>\n",
       "        \n",
       "        <table>\n",
       "            <tr>\n",
       "                <td align=\"center\" title=\"Validity of the migrad call\">Valid</td>\n",
       "                <td align=\"center\" title=\"Validity of parameters\">Valid Param</td>\n",
       "                <td align=\"center\" title=\"Is Covariance matrix accurate?\">Accurate Covar</td>\n",
       "                <td align=\"center\" title=\"Positive definiteness of covariance matrix\">PosDef</td>\n",
       "                <td align=\"center\" title=\"Was covariance matrix made posdef by adding diagonal element\">Made PosDef</td>\n",
       "            </tr>\n",
       "            <tr>\n",
       "                <td align=\"center\" style=\"background-color:#92CCA6\">True</td>\n",
       "                <td align=\"center\" style=\"background-color:#92CCA6\">True</td>\n",
       "                <td align=\"center\" style=\"background-color:#92CCA6\">True</td>\n",
       "                <td align=\"center\" style=\"background-color:#92CCA6\">True</td>\n",
       "                <td align=\"center\" style=\"background-color:#92CCA6\">False</td>\n",
       "            </tr>\n",
       "            <tr>\n",
       "                <td align=\"center\" title=\"Was last hesse call fail?\">Hesse Fail</td>\n",
       "                <td align=\"center\" title=\"Validity of covariance\">HasCov</td>\n",
       "                <td align=\"center\" title=\"Is EDM above goal EDM?\">Above EDM</td>\n",
       "                <td align=\"center\"></td>\n",
       "                <td align=\"center\" title=\"Did last migrad call reach max call limit?\">Reach calllim</td>\n",
       "            </tr>\n",
       "            <tr>\n",
       "                <td align=\"center\" style=\"background-color:#92CCA6\">False</td>\n",
       "                <td align=\"center\" style=\"background-color:#92CCA6\">True</td>\n",
       "                <td align=\"center\" style=\"background-color:#92CCA6\">False</td>\n",
       "                <td align=\"center\"></td>\n",
       "                <td align=\"center\" style=\"background-color:#92CCA6\">False</td>\n",
       "            </tr>\n",
       "        </table>\n",
       "        "
      ]
     },
     "metadata": {},
     "output_type": "display_data"
    },
    {
     "data": {
      "text/html": [
       "\n",
       "        <table>\n",
       "            <tr>\n",
       "                <td><a href=\"#\" onclick=\"$('#SbrsfPvcLA').toggle()\">+</a></td>\n",
       "                <td title=\"Variable name\">Name</td>\n",
       "                <td title=\"Value of parameter\">Value</td>\n",
       "                <td title=\"Parabolic error\">Parab Error</td>\n",
       "                <td title=\"Minos lower error\">Minos Error-</td>\n",
       "                <td title=\"Minos upper error\">Minos Error+</td>\n",
       "                <td title=\"Lower limit of the parameter\">Limit-</td>\n",
       "                <td title=\"Upper limit of the parameter\">Limit+</td>\n",
       "                <td title=\"Is the parameter fixed in the fit\">FIXED</td>\n",
       "            </tr>\n",
       "        \n",
       "            <tr>\n",
       "                <td>1</td>\n",
       "                <td>Mb</td>\n",
       "                <td>-19.0485</td>\n",
       "                <td>0.0231703</td>\n",
       "                <td>0</td>\n",
       "                <td>0</td>\n",
       "                <td></td>\n",
       "                <td></td>\n",
       "                <td></td>\n",
       "            </tr>\n",
       "            \n",
       "            <tr>\n",
       "                <td>2</td>\n",
       "                <td>alpha1</td>\n",
       "                <td>0.141227</td>\n",
       "                <td>0.00659009</td>\n",
       "                <td>0</td>\n",
       "                <td>0</td>\n",
       "                <td></td>\n",
       "                <td></td>\n",
       "                <td></td>\n",
       "            </tr>\n",
       "            \n",
       "            <tr>\n",
       "                <td>3</td>\n",
       "                <td>alpha2</td>\n",
       "                <td>-3.10154</td>\n",
       "                <td>0.080728</td>\n",
       "                <td>0</td>\n",
       "                <td>0</td>\n",
       "                <td></td>\n",
       "                <td></td>\n",
       "                <td></td>\n",
       "            </tr>\n",
       "            \n",
       "            <tr>\n",
       "                <td>4</td>\n",
       "                <td>alpha3</td>\n",
       "                <td>-0.0699574</td>\n",
       "                <td>0.0231108</td>\n",
       "                <td>0</td>\n",
       "                <td>0</td>\n",
       "                <td></td>\n",
       "                <td></td>\n",
       "                <td></td>\n",
       "            </tr>\n",
       "            \n",
       "            <tr>\n",
       "                <td>5</td>\n",
       "                <td>omgM</td>\n",
       "                <td>0.295371</td>\n",
       "                <td>0.0339336</td>\n",
       "                <td>0</td>\n",
       "                <td>0</td>\n",
       "                <td></td>\n",
       "                <td></td>\n",
       "                <td></td>\n",
       "            </tr>\n",
       "            \n",
       "            </table>\n",
       "        \n",
       "            <pre id=\"SbrsfPvcLA\" style=\"display:none;\">\n",
       "            <textarea rows=\"16\" cols=\"50\" onclick=\"this.select()\" readonly>\\begin{tabular}{|c|r|r|r|r|r|r|r|c|}\n",
       "\\hline\n",
       " & Name & Value & Para Error & Error+ & Error- & Limit+ & Limit- & FIXED\\\\\n",
       "\\hline\n",
       "1 & Mb & -1.905e+01 & 2.317e-02 &  &  &  &  & \\\\\n",
       "\\hline\n",
       "2 & alpha1 & 1.412e-01 & 6.590e-03 &  &  &  &  & \\\\\n",
       "\\hline\n",
       "3 & alpha2 & -3.102e+00 & 8.073e-02 &  &  &  &  & \\\\\n",
       "\\hline\n",
       "4 & alpha3 & -6.996e-02 & 2.311e-02 &  &  &  &  & \\\\\n",
       "\\hline\n",
       "5 & omgM & 2.954e-01 & 3.393e-02 &  &  &  &  & \\\\\n",
       "\\hline\n",
       "\\end{tabular}</textarea>\n",
       "            </pre>\n",
       "            "
      ]
     },
     "metadata": {},
     "output_type": "display_data"
    },
    {
     "data": {
      "text/html": [
       "<hr>"
      ]
     },
     "metadata": {},
     "output_type": "display_data"
    },
    {
     "data": {
      "text/plain": [
       "(0.15154930258417332, 0.0050877430812842316)"
      ]
     },
     "execution_count": 5,
     "metadata": {},
     "output_type": "execute_result"
    }
   ],
   "source": [
    "g.fit()"
   ]
  },
  {
   "cell_type": "code",
   "execution_count": null,
   "metadata": {},
   "outputs": [],
   "source": []
  },
  {
   "cell_type": "code",
   "execution_count": null,
   "metadata": {},
   "outputs": [],
   "source": []
  },
  {
   "cell_type": "code",
   "execution_count": null,
   "metadata": {},
   "outputs": [],
   "source": []
  }
 ],
 "metadata": {
  "kernelspec": {
   "display_name": "Python 2",
   "language": "python",
   "name": "python2"
  },
  "language_info": {
   "codemirror_mode": {
    "name": "ipython",
    "version": 2
   },
   "file_extension": ".py",
   "mimetype": "text/x-python",
   "name": "python",
   "nbconvert_exporter": "python",
   "pygments_lexer": "ipython2",
   "version": "2.7.14"
  }
 },
 "nbformat": 4,
 "nbformat_minor": 2
}
